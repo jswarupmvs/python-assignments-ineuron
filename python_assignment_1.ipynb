{
  "nbformat": 4,
  "nbformat_minor": 0,
  "metadata": {
    "colab": {
      "provenance": []
    },
    "kernelspec": {
      "name": "python3",
      "display_name": "Python 3"
    },
    "language_info": {
      "name": "python"
    }
  },
  "cells": [
    {
      "cell_type": "code",
      "source": [
        "#Write a Python program to find those numbers which are divisible by 7\n",
        "and multiple of 5, between 1500 and 2700 (both included).\n",
        "for number in range(1500, 2701):\n",
        "    if number % 7 == 0 and number % 5 == 0:\n",
        "        print(number)"
      ],
      "metadata": {
        "id": "pjxaXzr4X-hg"
      },
      "execution_count": null,
      "outputs": []
    },
    {
      "cell_type": "code",
      "source": [
        "#Python program to add two numbers\n",
        "# Input from the user\n",
        "num1 = float(input(\"Enter the first number: \"))\n",
        "num2 = float(input(\"Enter the second number: \"))\n",
        "\n",
        "# Add the two numbers\n",
        "sum = num1 + num2\n",
        "\n",
        "# Display the result\n",
        "print(\"The sum of {} and {} is: {}\".format(num1, num2, sum))\n"
      ],
      "metadata": {
        "colab": {
          "base_uri": "https://localhost:8080/"
        },
        "id": "x1jI2oHnY97v",
        "outputId": "378c96b6-3026-40e4-e2f8-1b6a797a09e1"
      },
      "execution_count": null,
      "outputs": [
        {
          "output_type": "stream",
          "name": "stdout",
          "text": [
            "Enter the first number: 1\n",
            "Enter the second number: 2\n",
            "The sum of 1.0 and 2.0 is: 3.0\n"
          ]
        }
      ]
    },
    {
      "cell_type": "code",
      "source": [
        "#Maximum of two numbers in Python\n",
        "num1 = float(input(\"Enter the first number: \"))\n",
        "num2 = float(input(\"Enter the second number: \"))\n",
        "\n",
        "if num1 > num2:\n",
        "  print(\"num1 is greater than num2\")\n",
        "else:\n",
        "  print(\"num2 is greater than num1\")"
      ],
      "metadata": {
        "id": "JH3euWOJbZiV"
      },
      "execution_count": null,
      "outputs": []
    },
    {
      "cell_type": "code",
      "source": [
        "#Python Program for factorial of a number\n",
        "# Input a number from the user\n",
        "num = int(input(\"Enter a positive integer: \"))\n",
        "\n",
        "# Check if the input is a positive integer\n",
        "if num < 0:\n",
        "    print(\"Factorial is not defined for negative numbers.\")\n",
        "elif num == 0:\n",
        "    print(\"The factorial of 0 is 1.\")\n",
        "else:\n",
        "    factorial = 1\n",
        "    for i in range(1, num + 1):\n",
        "        factorial *= i\n",
        "    print(\"The factorial of {} is: {}\".format(num, factorial))\n"
      ],
      "metadata": {
        "colab": {
          "base_uri": "https://localhost:8080/"
        },
        "id": "hBOwtQxLjgWe",
        "outputId": "8ba3cbf3-e50f-4059-dea3-729fc2846f98"
      },
      "execution_count": null,
      "outputs": [
        {
          "output_type": "stream",
          "name": "stdout",
          "text": [
            "Enter a positive integer: 10\n",
            "The factorial of 10 is: 3628800\n"
          ]
        }
      ]
    },
    {
      "cell_type": "code",
      "source": [
        "#Python Program for simple interest\n",
        "# Input principal amount, rate of interest, and time period from the user\n",
        "principal = float(input(\"Enter the principal amount: \"))\n",
        "rate_of_interest = float(input(\"Enter the rate of interest (as a percentage): \"))\n",
        "time_period = float(input(\"Enter the time period (in years): \"))\n",
        "\n",
        "# Calculate simple interest\n",
        "simple_interest = (principal * rate_of_interest * time_period) / 100\n",
        "\n",
        "# Display the result\n",
        "print(\"Simple Interest:\", simple_interest)"
      ],
      "metadata": {
        "colab": {
          "base_uri": "https://localhost:8080/"
        },
        "id": "VjNSfSALCRR6",
        "outputId": "91eacb18-29eb-43f6-fd97-5960750d40e3"
      },
      "execution_count": null,
      "outputs": [
        {
          "output_type": "stream",
          "name": "stdout",
          "text": [
            "Enter the principal amount: 100\n",
            "Enter the rate of interest (as a percentage): 15\n",
            "Enter the time period (in years): 1\n",
            "Simple Interest: 15.0\n"
          ]
        }
      ]
    },
    {
      "cell_type": "code",
      "source": [
        "#Python Program for compound interest\n",
        "# Input principal amount, rate of interest, time period, and compounding frequency from the user\n",
        "principal = float(input(\"Enter the principal amount: \"))\n",
        "rate_of_interest = float(input(\"Enter the annual interest rate (as a decimal): \"))\n",
        "time_period = float(input(\"Enter the time period (in years): \"))\n",
        "compounding_frequency = int(input(\"Enter the number of times interest is compounded per year: \"))\n",
        "\n",
        "# Calculate compound interest\n",
        "compound_interest = principal * (pow(1 + (rate_of_interest / compounding_frequency), compounding_frequency * time_period)) - principal\n",
        "\n",
        "# Display the result\n",
        "print(\"Compound Interest:\", compound_interest)\n"
      ],
      "metadata": {
        "id": "MkvBSZUYDduD"
      },
      "execution_count": null,
      "outputs": []
    },
    {
      "cell_type": "code",
      "source": [
        "#Python Program to check Armstrong Number\n",
        "# Input a number from the user\n",
        "num = int(input(\"Enter a number: \"))\n",
        "\n",
        "# Convert the number to a string to find its length (number of digits)\n",
        "num_str = str(num)\n",
        "num_digits = len(num_str)\n",
        "\n",
        "# Initialize a variable to store the sum of digits raised to the power of num_digits\n",
        "sum_of_powers = 0\n",
        "\n",
        "# Calculate the sum of digits raised to the power of num_digits\n",
        "for digit_char in num_str:\n",
        "    digit = int(digit_char)\n",
        "    sum_of_powers += digit ** num_digits\n",
        "\n",
        "# Check if the number is an Armstrong number\n",
        "if num == sum_of_powers:\n",
        "    print(num, \"is an Armstrong number\")\n",
        "else:\n",
        "    print(num, \"is not an Armstrong number\")\n"
      ],
      "metadata": {
        "id": "0wb787QIDpTZ"
      },
      "execution_count": null,
      "outputs": []
    },
    {
      "cell_type": "code",
      "source": [
        "#Python Program for Program to find area of a circle\n",
        "# Import the math module to use the constant pi (π)\n",
        "import math\n",
        "\n",
        "# Input the radius from the user\n",
        "radius = float(input(\"Enter the radius of the circle: \"))\n",
        "\n",
        "# Calculate the area of the circle\n",
        "area = math.pi * (radius ** 2)\n",
        "\n",
        "# Display the result\n",
        "print(\"The area of the circle with radius\", radius, \"is:\", area)\n"
      ],
      "metadata": {
        "id": "QOol8erUEgBA"
      },
      "execution_count": null,
      "outputs": []
    },
    {
      "cell_type": "code",
      "source": [
        "#Python program to print all Prime numbers in an Interva\n",
        "# Function to check if a number is prime\n",
        "def is_prime(num):\n",
        "    if num <= 1:\n",
        "        return False\n",
        "    if num <= 3:\n",
        "        return True\n",
        "    if num % 2 == 0 or num % 3 == 0:\n",
        "        return False\n",
        "    i = 5\n",
        "    while i * i <= num:\n",
        "        if num % i == 0 or num % (i + 2) == 0:\n",
        "            return False\n",
        "        i += 6\n",
        "    return True\n",
        "\n",
        "# Input the interval from the user\n",
        "start = int(input(\"Enter the starting number of the interval: \"))\n",
        "end = int(input(\"Enter the ending number of the interval: \"))\n",
        "\n",
        "# Print prime numbers in the interval\n",
        "print(\"Prime numbers in the interval [{}, {}]: \".format(start, end))\n",
        "for number in range(start, end + 1):\n",
        "    if is_prime(number):\n",
        "        print(number)\n"
      ],
      "metadata": {
        "id": "QHnpQI0VFI71"
      },
      "execution_count": null,
      "outputs": []
    },
    {
      "cell_type": "code",
      "source": [
        "#Python program to check whether a number is Prime or not\n",
        "# Function to check if a number is prime\n",
        "def is_prime(num):\n",
        "    if num <= 1:\n",
        "        return False\n",
        "    if num <= 3:\n",
        "        return True\n",
        "    if num % 2 == 0 or num % 3 == 0:\n",
        "        return False\n",
        "    i = 5\n",
        "    while i * i <= num:\n",
        "        if num % i == 0 or num % (i + 2) == 0:\n",
        "            return False\n",
        "        i += 6\n",
        "    return True\n",
        "\n",
        "# Input the interval from the user\n",
        "start = int(input(\"Enter the starting number of the interval: \"))\n",
        "end = int(input(\"Enter the ending number of the interval: \"))\n",
        "\n",
        "# Print prime numbers in the interval\n",
        "print(\"Prime numbers in the interval [{}, {}]: \".format(start, end))\n",
        "for number in range(start, end + 1):\n",
        "    if is_prime(number):\n",
        "        print(number)\n"
      ],
      "metadata": {
        "id": "IDyuUnFKFKtE"
      },
      "execution_count": null,
      "outputs": []
    }
  ]
}