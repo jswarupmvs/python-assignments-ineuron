{
  "nbformat": 4,
  "nbformat_minor": 0,
  "metadata": {
    "colab": {
      "provenance": []
    },
    "kernelspec": {
      "name": "python3",
      "display_name": "Python 3"
    },
    "language_info": {
      "name": "python"
    }
  },
  "cells": [
    {
      "cell_type": "code",
      "execution_count": null,
      "metadata": {
        "id": "zw0kV72TvGvD"
      },
      "outputs": [],
      "source": [
        "#Python | Ways to remove a key from dictionary\n",
        "my_dict = {'a': 10, 'b': 20, 'c': 30}\n",
        "\n",
        "# Remove key 'b' from the dictionary\n",
        "del my_dict['b']\n",
        "\n",
        "print(\"Dictionary after removing key 'b':\", my_dict)\n"
      ]
    },
    {
      "cell_type": "code",
      "source": [
        "#Ways to sort list of dictionaries by values in Python – Using itemgetter\n",
        "from operator import itemgetter\n",
        "\n",
        "# List of dictionaries\n",
        "my_list = [\n",
        "    {'name': 'Alice', 'age': 30, 'salary': 5000},\n",
        "    {'name': 'Bob', 'age': 25, 'salary': 6000},\n",
        "    {'name': 'Charlie', 'age': 35, 'salary': 4500}\n",
        "]\n",
        "\n",
        "# Sort the list of dictionaries by the 'age' key\n",
        "sorted_list_by_age = sorted(my_list, key=itemgetter('age'))\n",
        "\n",
        "# Sort the list of dictionaries by the 'salary' key in descending order\n",
        "sorted_list_by_salary_desc = sorted(my_list, key=itemgetter('salary'), reverse=True)\n",
        "\n",
        "# Print the sorted lists\n",
        "print(\"Sorted by age:\", sorted_list_by_age)\n",
        "print(\"Sorted by salary (descending):\", sorted_list_by_salary_desc)\n"
      ],
      "metadata": {
        "id": "9zMycMlevPk_"
      },
      "execution_count": null,
      "outputs": []
    },
    {
      "cell_type": "code",
      "source": [
        "#Ways to sort list of dictionaries by values in Python – Using lambda function\n",
        "# List of dictionaries\n",
        "my_list = [\n",
        "    {'name': 'Alice', 'age': 30, 'salary': 5000},\n",
        "    {'name': 'Bob', 'age': 25, 'salary': 6000},\n",
        "    {'name': 'Charlie', 'age': 35, 'salary': 4500}\n",
        "]\n",
        "\n",
        "# Sort the list of dictionaries by the 'age' key\n",
        "sorted_list_by_age = sorted(my_list, key=lambda x: x['age'])\n",
        "\n",
        "# Sort the list of dictionaries by the 'salary' key in descending order\n",
        "sorted_list_by_salary_desc = sorted(my_list, key=lambda x: x['salary'], reverse=True)\n",
        "\n",
        "# Print the sorted lists\n",
        "print(\"Sorted by age:\", sorted_list_by_age)\n",
        "print(\"Sorted by salary (descending):\", sorted_list_by_salary_desc)\n"
      ],
      "metadata": {
        "id": "39LgnqOLvdjC"
      },
      "execution_count": null,
      "outputs": []
    },
    {
      "cell_type": "code",
      "source": [
        "#Python | Merging two Dictionaries\n",
        "# Example dictionaries\n",
        "dict1 = {'a': 10, 'b': 20}\n",
        "dict2 = {'b': 30, 'c': 40}\n",
        "\n",
        "# Merge dict2 into dict1\n",
        "dict1.update(dict2)\n",
        "\n",
        "print(\"Merged Dictionary using update():\", dict1)\n"
      ],
      "metadata": {
        "id": "YDKCBSOVvlY7"
      },
      "execution_count": null,
      "outputs": []
    },
    {
      "cell_type": "code",
      "source": [
        "#Python – Convert key-values list to flat dictionary\n",
        "def list_to_dict(key_value_list):\n",
        "    flat_dict = {}\n",
        "    for key, value in key_value_list:\n",
        "        flat_dict[key] = value\n",
        "    return flat_dict\n",
        "\n",
        "# Example usage:\n",
        "key_value_list = [('a', 1), ('b', 2), ('c', 3)]\n",
        "flat_dictionary = list_to_dict(key_value_list)\n",
        "\n",
        "print(\"List of Key-Value Pairs:\", key_value_list)\n",
        "print(\"Flat Dictionary:\", flat_dictionary)\n"
      ],
      "metadata": {
        "id": "zDs-oEUYv2tW"
      },
      "execution_count": null,
      "outputs": []
    },
    {
      "cell_type": "code",
      "source": [
        "#Python – Insertion at the beginning in OrderedDict\n",
        "from collections import OrderedDict\n",
        "\n",
        "def insert_at_beginning(ordered_dict, key, value):\n",
        "    # Create a new OrderedDict with the desired item at the beginning\n",
        "    new_ordered_dict = OrderedDict([(key, value)])\n",
        "\n",
        "    # Update the new OrderedDict with the original OrderedDict\n",
        "    new_ordered_dict.update(ordered_dict)\n",
        "\n",
        "    return new_ordered_dict\n",
        "\n",
        "# Example usage:\n",
        "original_ordered_dict = OrderedDict([('b', 2), ('c', 3)])\n",
        "\n",
        "new_key = 'a'\n",
        "new_value = 1\n",
        "\n",
        "updated_ordered_dict = insert_at_beginning(original_ordered_dict, new_key, new_value)\n",
        "\n",
        "print(\"Original OrderedDict:\", original_ordered_dict)\n",
        "print(f\"OrderedDict after inserting '{new_key}':\", updated_ordered_dict)\n"
      ],
      "metadata": {
        "id": "CZt1nq__v_yV"
      },
      "execution_count": null,
      "outputs": []
    },
    {
      "cell_type": "code",
      "source": [
        "#Python | Check order of character in string using OrderedDict( )\n",
        "from collections import OrderedDict\n",
        "\n",
        "def check_order(input_string, pattern):\n",
        "    # Create an OrderedDict to store the order of characters in the input string\n",
        "    char_order = OrderedDict.fromkeys(input_string)\n",
        "\n",
        "    # Check if the pattern is a subsequence of the ordered characters\n",
        "    pattern_index = 0\n",
        "    for char in char_order:\n",
        "        if pattern_index < len(pattern) and char == pattern[pattern_index]:\n",
        "            pattern_index += 1\n",
        "\n",
        "    # If all characters of the pattern were found in order, it is a subsequence\n",
        "    return pattern_index == len(pattern)\n",
        "\n",
        "# Example usage:\n",
        "input_string = \"hello world\"\n",
        "pattern_to_check = \"hlo\"\n",
        "\n",
        "result = check_order(input_string, pattern_to_check)\n",
        "\n",
        "print(\"Input String:\", input_string)\n",
        "print(\"Pattern to Check:\", pattern_to_check)\n",
        "\n",
        "if result:\n",
        "    print(\"The pattern is a subsequence in order.\")\n",
        "else:\n",
        "    print(\"The pattern is not a subsequence in order.\")\n"
      ],
      "metadata": {
        "id": "QJ-djgMhwMtd"
      },
      "execution_count": null,
      "outputs": []
    },
    {
      "cell_type": "code",
      "source": [
        "#Dictionary and counter in Python to find winner of election\n",
        "from collections import Counter\n",
        "\n",
        "def find_winner(votes):\n",
        "    # Use Counter to count the votes\n",
        "    vote_counts = Counter(votes)\n",
        "\n",
        "    # Find the candidate with the maximum votes\n",
        "    winner = max(vote_counts, key=vote_counts.get)\n",
        "\n",
        "    return winner\n",
        "\n",
        "# Example usage:\n",
        "votes = ['Alice', 'Bob', 'Charlie', 'Alice', 'Bob', 'Alice', 'Charlie', 'Charlie']\n",
        "\n",
        "winner = find_winner(votes)\n",
        "\n",
        "print(\"Votes:\", votes)\n",
        "print(\"Winner of the election:\", winner)\n"
      ],
      "metadata": {
        "id": "NIR0FNS5wUE-"
      },
      "execution_count": null,
      "outputs": []
    },
    {
      "cell_type": "code",
      "source": [
        "#Python – Append Dictionary Keys and Values ( In order ) in dictionary\n",
        "def append_keys_values(original_dict):\n",
        "    result_dict = {}\n",
        "\n",
        "    for key, value in original_dict.items():\n",
        "        result_dict[key] = key\n",
        "        result_dict[value] = value\n",
        "\n",
        "    return result_dict\n",
        "\n",
        "# Example usage:\n",
        "original_dict = {'a': 1, 'b': 2, 'c': 3}\n",
        "\n",
        "appended_dict = append_keys_values(original_dict)\n",
        "\n",
        "print(\"Original Dictionary:\", original_dict)\n",
        "print(\"Appended Dictionary:\", appended_dict)\n"
      ],
      "metadata": {
        "id": "MQGZqjJxwbQS"
      },
      "execution_count": null,
      "outputs": []
    },
    {
      "cell_type": "code",
      "source": [
        "#Python | Sort Python Dictionaries by Key or Value\n",
        "# Example dictionary\n",
        "my_dict = {'b': 2, 'a': 1, 'c': 3}\n",
        "\n",
        "# Sort the dictionary by keys\n",
        "sorted_dict_by_key = dict(sorted(my_dict.items()))\n",
        "\n",
        "print(\"Original Dictionary:\", my_dict)\n",
        "print(\"Sorted Dictionary by Key:\", sorted_dict_by_key)\n"
      ],
      "metadata": {
        "id": "F9IZHT6rxAh3"
      },
      "execution_count": null,
      "outputs": []
    }
  ]
}