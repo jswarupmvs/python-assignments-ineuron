{
  "nbformat": 4,
  "nbformat_minor": 0,
  "metadata": {
    "colab": {
      "provenance": []
    },
    "kernelspec": {
      "name": "python3",
      "display_name": "Python 3"
    },
    "language_info": {
      "name": "python"
    }
  },
  "cells": [
    {
      "cell_type": "code",
      "execution_count": null,
      "metadata": {
        "id": "SUatV_-DxNt0"
      },
      "outputs": [],
      "source": [
        "#Python – Sort Dictionary key and values List\n",
        "# Example dictionary\n",
        "my_dict = {'b': 2, 'a': 1, 'c': 3}\n",
        "\n",
        "# Sort the dictionary keys\n",
        "sorted_keys = sorted(my_dict.keys())\n",
        "\n",
        "print(\"Original Dictionary:\", my_dict)\n",
        "print(\"Sorted Keys:\", sorted_keys)\n"
      ]
    },
    {
      "cell_type": "code",
      "source": [
        "#Handling missing keys in Python dictionaries\n",
        "my_dict = {'a': 1, 'b': 2, 'c': 3}\n",
        "\n",
        "# Using get() with a default value\n",
        "value = my_dict.get('d', 0)\n",
        "print(\"Value for key 'd':\", value)\n"
      ],
      "metadata": {
        "id": "L9_zOwalxaYW"
      },
      "execution_count": null,
      "outputs": []
    },
    {
      "cell_type": "code",
      "source": [
        "#Python dictionary with keys having multiple inputs\n",
        "# Creating a dictionary with keys having multiple inputs\n",
        "multikey_dict = {\n",
        "    ('Alice', 'Smith'): 25,\n",
        "    ('Bob', 'Johnson'): 30,\n",
        "    ('Charlie', 'Brown'): 22\n",
        "}\n",
        "\n",
        "# Accessing values using keys\n",
        "age_alice = multikey_dict[('Alice', 'Smith')]\n",
        "age_bob = multikey_dict[('Bob', 'Johnson')]\n",
        "\n",
        "print(\"Age of Alice:\", age_alice)\n",
        "print(\"Age of Bob:\", age_bob)\n"
      ],
      "metadata": {
        "id": "OmBopoeDyVqs"
      },
      "execution_count": null,
      "outputs": []
    },
    {
      "cell_type": "code",
      "source": [
        "#Print anagrams together in Python using List and Dictionary\n",
        "def group_anagrams(words):\n",
        "    anagram_dict = {}\n",
        "\n",
        "    for word in words:\n",
        "        # Sort the characters of the word and use it as a key\n",
        "        sorted_word = ''.join(sorted(word))\n",
        "\n",
        "        # Add the word to the list of anagrams for the sorted key\n",
        "        if sorted_word in anagram_dict:\n",
        "            anagram_dict[sorted_word].append(word)\n",
        "        else:\n",
        "            anagram_dict[sorted_word] = [word]\n",
        "\n",
        "    return list(anagram_dict.values())\n",
        "\n",
        "# Example usage:\n",
        "word_list = [\"listen\", \"silent\", \"enlist\", \"heart\", \"earth\", \"rat\", \"tar\"]\n",
        "\n",
        "result = group_anagrams(word_list)\n",
        "\n",
        "print(\"Original Word List:\", word_list)\n",
        "print(\"Anagrams Grouped Together:\", result)\n"
      ],
      "metadata": {
        "id": "ESF1tJC6zpLc"
      },
      "execution_count": null,
      "outputs": []
    },
    {
      "cell_type": "code",
      "source": [
        "#K’th Non-repeating Character in Python using List Comprehension and OrderedDict\n",
        "from collections import OrderedDict\n",
        "\n",
        "def kth_non_repeating_char(input_str, k):\n",
        "    char_counts = OrderedDict()\n",
        "\n",
        "    # Count the occurrences of each character\n",
        "    for char in input_str:\n",
        "        char_counts[char] = char_counts.get(char, 0) + 1\n",
        "\n",
        "    # Filter characters that appear only once\n",
        "    non_repeating_chars = [char for char, count in char_counts.items() if count == 1]\n",
        "\n",
        "    # Return the K'th non-repeating character (if it exists)\n",
        "    return non_repeating_chars[k - 1] if k <= len(non_repeating_chars) else None\n",
        "\n",
        "# Example usage:\n",
        "input_string = \"programming\"\n",
        "k_value = 2\n",
        "\n",
        "result = kth_non_repeating_char(input_string, k_value)\n",
        "\n",
        "print(f\"Original String: {input_string}\")\n",
        "print(f\"{k_value}nd Non-repeating Character: {result}\")\n"
      ],
      "metadata": {
        "id": "shSXf2mPzz_b"
      },
      "execution_count": null,
      "outputs": []
    },
    {
      "cell_type": "code",
      "source": [
        "#Check if binary representations of two numbers are anagram\n",
        "def are_binary_anagrams(num1, num2):\n",
        "    # Convert decimal numbers to binary strings\n",
        "    binary_str1 = bin(num1)[2:]\n",
        "    binary_str2 = bin(num2)[2:]\n",
        "\n",
        "    # Check if the character counts of binary strings are the same\n",
        "    return sorted(binary_str1) == sorted(binary_str2)\n",
        "\n",
        "# Example usage:\n",
        "number1 = 5\n",
        "number2 = 10\n",
        "\n",
        "result = are_binary_anagrams(number1, number2)\n",
        "\n",
        "print(f\"Number 1: {number1}, Binary: {bin(number1)[2:]}\")\n",
        "print(f\"Number 2: {number2}, Binary: {bin(number2)[2:]}\")\n",
        "\n",
        "if result:\n",
        "    print(\"Binary representations are anagrams.\")\n",
        "else:\n",
        "    print(\"Binary representations are not anagrams.\")\n"
      ],
      "metadata": {
        "id": "VBmieoci0yrU"
      },
      "execution_count": null,
      "outputs": []
    },
    {
      "cell_type": "code",
      "source": [
        "#Python Counter to find the size of largest subset of anagram words\n",
        "from collections import Counter\n",
        "\n",
        "def largest_anagram_subset(words):\n",
        "    anagram_counts = Counter()\n",
        "\n",
        "    for word in words:\n",
        "        sorted_word = ''.join(sorted(word))\n",
        "        anagram_counts[sorted_word] += 1\n",
        "\n",
        "    max_anagram_size = max(anagram_counts.values(), default=0)\n",
        "\n",
        "    return max_anagram_size\n",
        "\n",
        "# Example usage:\n",
        "word_list = [\"listen\", \"silent\", \"enlist\", \"heart\", \"earth\", \"rat\", \"tar\"]\n",
        "\n",
        "result = largest_anagram_subset(word_list)\n",
        "\n",
        "print(\"Word List:\", word_list)\n",
        "print(\"Size of Largest Anagram Subset:\", result)\n"
      ],
      "metadata": {
        "id": "0xGcAO1-0-RQ"
      },
      "execution_count": null,
      "outputs": []
    },
    {
      "cell_type": "code",
      "source": [
        "#Python | Remove all duplicates words from a given sentence\n",
        "def remove_duplicates(sentence):\n",
        "    words = sentence.split()\n",
        "    unique_words = set(words)\n",
        "    result_sentence = ' '.join(unique_words)\n",
        "    return result_sentence\n",
        "\n",
        "# Example usage:\n",
        "input_sentence = \"Python is great and Python is easy\"\n",
        "result = remove_duplicates(input_sentence)\n",
        "\n",
        "print(\"Input Sentence:\", input_sentence)\n",
        "print(\"Sentence without Duplicate Words:\", result)\n"
      ],
      "metadata": {
        "id": "L9V_qPG_1Fmo"
      },
      "execution_count": null,
      "outputs": []
    },
    {
      "cell_type": "code",
      "source": [
        "#Python Dictionary to find mirror characters in a string\n",
        "def is_mirror_string(input_str):\n",
        "    mirror_dict = {'A': 'A', 'B': 'D', 'C': 'C', 'D': 'B', 'E': 'E', 'F': 'F', 'G': 'G',\n",
        "                   'H': 'H', 'I': 'I', 'J': 'J', 'K': 'K', 'L': 'L', 'M': 'M', 'N': 'N',\n",
        "                   'O': 'O', 'P': 'P', 'Q': 'Q', 'R': 'R', 'S': 'S', 'T': 'T', 'U': 'U',\n",
        "                   'V': 'V', 'W': 'W', 'X': 'X', 'Y': 'Y', 'Z': 'Z'}\n",
        "\n",
        "    # Convert the string to uppercase for case-insensitivity\n",
        "    input_str = input_str.upper()\n",
        "\n",
        "    # Reverse the string and check if it is equal to its mirror image\n",
        "    return input_str == input_str[::-1]\n",
        "\n",
        "# Example usage:\n",
        "input_string = \"WOW\"\n",
        "result = is_mirror_string(input_string)\n",
        "\n",
        "print(\"Input String:\", input_string)\n",
        "print(\"Is a Mirror String:\", result)\n"
      ],
      "metadata": {
        "id": "OM6lVC_x1N4G"
      },
      "execution_count": null,
      "outputs": []
    },
    {
      "cell_type": "code",
      "source": [
        "#Counting the frequencies in a list using dictionary in Python\n",
        "def count_frequencies(input_list):\n",
        "    frequency_dict = {}\n",
        "\n",
        "    # Count frequencies using a dictionary\n",
        "    for element in input_list:\n",
        "        if element in frequency_dict:\n",
        "            frequency_dict[element] += 1\n",
        "        else:\n",
        "            frequency_dict[element] = 1\n",
        "\n",
        "    return frequency_dict\n",
        "\n",
        "# Example usage:\n",
        "my_list = [1, 2, 3, 1, 2, 1, 4, 5, 4, 3, 2, 1]\n",
        "\n",
        "result = count_frequencies(my_list)\n",
        "\n",
        "print(\"Original List:\", my_list)\n",
        "print(\"Frequencies:\", result)\n"
      ],
      "metadata": {
        "id": "-F_4k2cz1mUA"
      },
      "execution_count": null,
      "outputs": []
    }
  ]
}