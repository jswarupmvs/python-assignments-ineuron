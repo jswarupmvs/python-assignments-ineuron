{
  "nbformat": 4,
  "nbformat_minor": 0,
  "metadata": {
    "colab": {
      "provenance": []
    },
    "kernelspec": {
      "name": "python3",
      "display_name": "Python 3"
    },
    "language_info": {
      "name": "python"
    }
  },
  "cells": [
    {
      "cell_type": "code",
      "execution_count": null,
      "metadata": {
        "id": "WnUL-TP-2NwY"
      },
      "outputs": [],
      "source": [
        "#Python | Convert a list of Tuples into Dictionary\n",
        "# Example list of tuples\n",
        "list_of_tuples = [('a', 1), ('b', 2), ('c', 3)]\n",
        "\n",
        "# Convert list of tuples to a dictionary\n",
        "dictionary_from_tuples = dict(list_of_tuples)\n",
        "\n",
        "# Display the result\n",
        "print(\"List of Tuples:\", list_of_tuples)\n",
        "print(\"Dictionary from Tuples:\", dictionary_from_tuples)\n"
      ]
    },
    {
      "cell_type": "code",
      "source": [
        "#Python counter and dictionary intersection example (Make a string using deletion and\n",
        "rearrangement)\n",
        "from collections import Counter\n",
        "\n",
        "def make_string(target, source):\n",
        "    target_counter = Counter(target)\n",
        "    source_counter = Counter(source)\n",
        "\n",
        "    # Intersection of counters to check if source has enough characters\n",
        "    intersection_counter = target_counter & source_counter\n",
        "\n",
        "    # Check if all characters required for the target are present in the source\n",
        "    if intersection_counter == target_counter:\n",
        "        return True\n",
        "    else:\n",
        "        return False\n",
        "\n",
        "# Example usage:\n",
        "target_string = \"apple\"\n",
        "source_string = \"apelpx\"\n",
        "\n",
        "result = make_string(target_string, source_string)\n",
        "\n",
        "if result:\n",
        "    print(f\"You can make '{target_string}' using '{source_string}' (with deletion and rearrangement).\")\n",
        "else:\n",
        "    print(f\"You cannot make '{target_string}' using '{source_string}' (with deletion and rearrangement).\")\n"
      ],
      "metadata": {
        "id": "J5Y1wcTh27-O"
      },
      "execution_count": null,
      "outputs": []
    },
    {
      "cell_type": "code",
      "source": [
        "#Python dictionary, set and counter to check if frequencies can become same\n",
        "from collections import Counter\n",
        "\n",
        "def frequencies_can_become_same(input_str):\n",
        "    char_count = Counter(input_str)\n",
        "    count_set = set(char_count.values())\n",
        "\n",
        "    # If all frequencies are the same or only one character has a frequency of 1\n",
        "    return len(count_set) == 1 or (len(count_set) == 2 and count_set.pop() == 1)\n",
        "\n",
        "# Example usage:\n",
        "input_string = \"xyyzz\"\n",
        "result = frequencies_can_become_same(input_string)\n",
        "\n",
        "if result:\n",
        "    print(f\"Frequencies of characters in '{input_string}' can become the same.\")\n",
        "else:\n",
        "    print(f\"Frequencies of characters in '{input_string}' cannot become the same.\")\n"
      ],
      "metadata": {
        "id": "IxoPikYU3gSQ"
      },
      "execution_count": null,
      "outputs": []
    },
    {
      "cell_type": "code",
      "source": [
        "#Scraping And Finding Ordered Words In A Dictionary using Python\n",
        "import requests\n",
        "from bs4 import BeautifulSoup\n",
        "\n",
        "def get_ordered_words():\n",
        "    url = 'https://www.wordsapi.com/'\n",
        "\n",
        "    # Make a request to the website\n",
        "    response = requests.get(url)\n",
        "\n",
        "    # Check if the request was successful\n",
        "    if response.status_code == 200:\n",
        "        soup = BeautifulSoup(response.text, 'html.parser')\n",
        "\n",
        "        # Extract the ordered words from the website\n",
        "        ordered_words = [word.text.strip() for word in soup.select('.css-1e6hyaa')]\n",
        "\n",
        "        return ordered_words\n",
        "    else:\n",
        "        print(f\"Failed to fetch data. Status code: {response.status_code}\")\n",
        "        return []\n",
        "\n",
        "# Example usage:\n",
        "ordered_words_list = get_ordered_words()\n",
        "\n",
        "if ordered_words_list:\n",
        "    print(\"Ordered Words from the Dictionary:\")\n",
        "    for idx, word in enumerate(ordered_words_list, start=1):\n",
        "        print(f\"{idx}. {word}\")\n",
        "else:\n",
        "    print(\"No ordered words found.\")\n"
      ],
      "metadata": {
        "id": "AYqAjRAt3slR"
      },
      "execution_count": null,
      "outputs": []
    },
    {
      "cell_type": "code",
      "source": [
        "#Possible Words using given characters in Python\n",
        "def possible_words(available_chars, word_list):\n",
        "    valid_words = []\n",
        "\n",
        "    for word in word_list:\n",
        "        if all(word.count(char) <= available_chars.count(char) for char in set(word)):\n",
        "            valid_words.append(word)\n",
        "\n",
        "    return valid_words\n",
        "\n",
        "# Example usage:\n",
        "available_characters = \"apple\"\n",
        "word_list = [\"apple\", \"app\", \"ale\", \"lap\", \"pal\", \"peal\", \"plea\"]\n",
        "\n",
        "result = possible_words(available_characters, word_list)\n",
        "\n",
        "print(f\"Available Characters: {available_characters}\")\n",
        "print(f\"Possible Words: {result}\")\n"
      ],
      "metadata": {
        "id": "ShsGd3uz32y9"
      },
      "execution_count": null,
      "outputs": []
    },
    {
      "cell_type": "code",
      "source": [
        "#Python – Keys associated with Values in Dictionary\n",
        "def keys_for_value(my_dict, target_value):\n",
        "    keys_list = [key for key, value in my_dict.items() if value == target_value]\n",
        "    return keys_list\n",
        "\n",
        "# Example usage:\n",
        "my_dict = {'a': 1, 'b': 2, 'c': 1, 'd': 3}\n",
        "target_value = 1\n",
        "\n",
        "result = keys_for_value(my_dict, target_value)\n",
        "\n",
        "print(\"Original Dictionary:\", my_dict)\n",
        "print(f\"Keys associated with value {target_value}: {result}\")\n"
      ],
      "metadata": {
        "id": "H8Tviani4CQt"
      },
      "execution_count": null,
      "outputs": []
    },
    {
      "cell_type": "code",
      "source": [
        "#Python program to Find the size of a Tuple\n",
        "# Example tuple\n",
        "my_tuple = (1, 2, 3, 'a', 'b', 'c')\n",
        "\n",
        "# Find the size of the tuple\n",
        "tuple_size = len(my_tuple)\n",
        "\n",
        "# Display the result\n",
        "print(\"Original Tuple:\", my_tuple)\n",
        "print(\"Size of the Tuple:\", tuple_size)\n"
      ],
      "metadata": {
        "id": "0jhC1C1F4WSc"
      },
      "execution_count": null,
      "outputs": []
    },
    {
      "cell_type": "code",
      "source": [
        "#Python – Maximum and Minimum K elements in Tuple\n",
        "def max_min_k_elements(my_tuple, k):\n",
        "    sorted_tuple = sorted(my_tuple)\n",
        "    max_k_elements = sorted_tuple[-k:]\n",
        "    min_k_elements = sorted_tuple[:k]\n",
        "    return max_k_elements, min_k_elements\n",
        "\n",
        "# Example usage:\n",
        "my_tuple = (3, 1, 4, 1, 5, 9, 2, 6, 5, 3, 5)\n",
        "k = 3\n",
        "\n",
        "max_elements, min_elements = max_min_k_elements(my_tuple, k)\n",
        "\n",
        "print(\"Original Tuple:\", my_tuple)\n",
        "print(f\"Maximum {k} elements:\", max_elements)\n",
        "print(f\"Minimum {k} elements:\", min_elements)\n"
      ],
      "metadata": {
        "id": "f8vdpIvV4gNr"
      },
      "execution_count": null,
      "outputs": []
    },
    {
      "cell_type": "code",
      "source": [
        "#Create a list of tuples from given list having number and its cube in each tuple\n",
        "# Given list of numbers\n",
        "numbers = [1, 2, 3, 4, 5]\n",
        "\n",
        "# Create a list of tuples with number and its cube\n",
        "tuples_list = [(num, num**3) for num in numbers]\n",
        "\n",
        "# Display the result\n",
        "print(\"Original List of Numbers:\", numbers)\n",
        "print(\"List of Tuples (Number, Cube):\", tuples_list)\n"
      ],
      "metadata": {
        "id": "lkCXw5l240eM"
      },
      "execution_count": null,
      "outputs": []
    },
    {
      "cell_type": "code",
      "source": [
        "#Python – Adding Tuple to List and vice – versa\n",
        "# Adding a tuple to a list\n",
        "my_list = [1, 2, 3]\n",
        "my_tuple = ('a', 'b', 'c')\n",
        "\n",
        "# Add the tuple to the list\n",
        "my_list.append(my_tuple)\n",
        "\n",
        "# Display the result\n",
        "print(\"List after adding a tuple:\", my_list)\n",
        "\n",
        "# Converting a list to a tuple\n",
        "another_list = [4, 5, 6]\n",
        "another_tuple = tuple(another_list)\n",
        "\n",
        "# Display the result\n",
        "print(\"Original List:\", another_list)\n",
        "print(\"Converted Tuple:\", another_tuple)\n"
      ],
      "metadata": {
        "id": "Jo63uM5_5AIz"
      },
      "execution_count": null,
      "outputs": []
    },
    {
      "cell_type": "code",
      "source": [
        "#Python – Closest Pair to Kth index element in Tuple\n",
        "def closest_pair_to_kth_index(tuples_list, k, target_value):\n",
        "    # Calculate distances from the Kth index element to the target value\n",
        "    distances = [abs(tup[k] - target_value) for tup in tuples_list]\n",
        "\n",
        "    # Find the index of the tuple with the minimum distance\n",
        "    min_distance_index = distances.index(min(distances))\n",
        "\n",
        "    # Get the closest pair\n",
        "    closest_pair = tuples_list[min_distance_index]\n",
        "\n",
        "    return closest_pair\n",
        "\n",
        "# Example usage:\n",
        "tuples_list = [(1, 5, 3), (2, 7, 1), (4, 3, 9), (6, 2, 8)]\n",
        "k = 1  # Kth index\n",
        "target_value = 6\n",
        "\n",
        "result = closest_pair_to_kth_index(tuples_list, k, target_value)\n",
        "\n",
        "print(\"List of Tuples:\", tuples_list)\n",
        "print(f\"Closest Pair to Kth index element ({k}) with target value {target_value}:\", result)\n"
      ],
      "metadata": {
        "id": "eLehOc_r5R-R"
      },
      "execution_count": null,
      "outputs": []
    }
  ]
}