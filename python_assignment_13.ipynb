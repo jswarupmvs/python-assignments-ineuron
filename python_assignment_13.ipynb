{
  "nbformat": 4,
  "nbformat_minor": 0,
  "metadata": {
    "colab": {
      "provenance": []
    },
    "kernelspec": {
      "name": "python3",
      "display_name": "Python 3"
    },
    "language_info": {
      "name": "python"
    }
  },
  "cells": [
    {
      "cell_type": "code",
      "execution_count": null,
      "metadata": {
        "id": "4mDremIO5n2k"
      },
      "outputs": [],
      "source": [
        "#Python – Join Tuples if similar initial element\n",
        "def join_similar_tuples(tuples_list):\n",
        "    grouped_dict = {}\n",
        "\n",
        "    # Group tuples based on their first element\n",
        "    for tup in tuples_list:\n",
        "        key = tup[0]\n",
        "        if key in grouped_dict:\n",
        "            grouped_dict[key].append(tup)\n",
        "        else:\n",
        "            grouped_dict[key] = [tup]\n",
        "\n",
        "    # Join tuples with similar initial elements\n",
        "    result_list = [(key, *[elem for _, *elem in group]) for key, group in grouped_dict.items()]\n",
        "\n",
        "    return result_list\n",
        "\n",
        "# Example usage:\n",
        "tuples_list = [(1, 'apple'), (2, 'banana'), (1, 'orange'), (3, 'grape'), (2, 'kiwi')]\n",
        "\n",
        "result = join_similar_tuples(tuples_list)\n",
        "\n",
        "print(\"List of Tuples:\", tuples_list)\n",
        "print(\"Joined Tuples with Similar Initial Elements:\", result)\n"
      ]
    },
    {
      "cell_type": "code",
      "source": [
        "#Python – Extract digits from Tuple list\n",
        "def extract_digits_from_tuples(tuples_list):\n",
        "    digit_list = [int(''.join(filter(str.isdigit, str(element)))) for tup in tuples_list for element in tup]\n",
        "    return digit_list\n",
        "\n",
        "# Example usage:\n",
        "tuples_list = [(1, 'apple', 23), (2, 'banana', 45), (3, 'cherry', 67)]\n",
        "\n",
        "result = extract_digits_from_tuples(tuples_list)\n",
        "\n",
        "print(\"List of Tuples:\", tuples_list)\n",
        "print(\"Extracted Digits:\", result)\n"
      ],
      "metadata": {
        "id": "byrlcd9g9I2Y"
      },
      "execution_count": null,
      "outputs": []
    },
    {
      "cell_type": "code",
      "source": [
        "#Python – All pair combinations of 2 tuples\n",
        "def all_pair_combinations(tuple1, tuple2):\n",
        "    pairs = [(x, y) for x in tuple1 for y in tuple2]\n",
        "    return pairs\n",
        "\n",
        "# Example usage:\n",
        "tuple1 = (1, 2, 3)\n",
        "tuple2 = ('a', 'b', 'c')\n",
        "\n",
        "result = all_pair_combinations(tuple1, tuple2)\n",
        "\n",
        "print(\"Tuple 1:\", tuple1)\n",
        "print(\"Tuple 2:\", tuple2)\n",
        "print(\"All Pair Combinations:\", result)\n"
      ],
      "metadata": {
        "id": "h5IRqAzN9T8N"
      },
      "execution_count": null,
      "outputs": []
    },
    {
      "cell_type": "code",
      "source": [
        "#Python – Remove Tuples of Length K\n",
        "def remove_tuples_of_length_k(tuple_list, k):\n",
        "    result = [tup for tup in tuple_list if len(tup) != k]\n",
        "    return result\n",
        "\n",
        "# Example usage:\n",
        "tuple_list = [(1, 2, 3), ('a', 'b'), (4, 5, 6), ('x', 'y', 'z')]\n",
        "k = 2\n",
        "\n",
        "result = remove_tuples_of_length_k(tuple_list, k)\n",
        "\n",
        "print(\"Original List of Tuples:\", tuple_list)\n",
        "print(f\"Tuples of Length {k} Removed:\", result)\n"
      ],
      "metadata": {
        "id": "e-_X8t4N9mNb"
      },
      "execution_count": null,
      "outputs": []
    },
    {
      "cell_type": "code",
      "source": [
        "#Sort a list of tuples by second Item\n",
        "# Sample list of tuples\n",
        "tuple_list = [(1, 4), (3, 1), (2, 8), (5, 6)]\n",
        "\n",
        "# Sort the list of tuples by the second item\n",
        "sorted_tuple_list = sorted(tuple_list, key=lambda x: x[1])\n",
        "\n",
        "# Display the result\n",
        "print(\"Original List of Tuples:\", tuple_list)\n",
        "print(\"Sorted List of Tuples by Second Item:\", sorted_tuple_list)\n"
      ],
      "metadata": {
        "id": "2Nw5ceN-92CK"
      },
      "execution_count": null,
      "outputs": []
    },
    {
      "cell_type": "code",
      "source": [
        "#Python program to Order Tuples using external List\n",
        "# Sample list of tuples\n",
        "tuple_list = [('apple', 3), ('banana', 1), ('cherry', 2)]\n",
        "\n",
        "# External list to define the order\n",
        "order_list = ['banana', 'cherry', 'apple']\n",
        "\n",
        "# Sort the list of tuples based on the order of elements in the external list\n",
        "sorted_tuple_list = sorted(tuple_list, key=lambda x: order_list.index(x[0]))\n",
        "\n",
        "# Display the result\n",
        "print(\"Original List of Tuples:\", tuple_list)\n",
        "print(\"Ordered List of Tuples based on External List:\", sorted_tuple_list)\n"
      ],
      "metadata": {
        "id": "_NfezyE8-AvJ"
      },
      "execution_count": null,
      "outputs": []
    },
    {
      "cell_type": "code",
      "source": [
        "#Python – Flatten tuple of List to tuple\n",
        "# Sample tuple of lists\n",
        "tuple_of_lists = ([1, 2, 3], ['a', 'b'], [4, 5])\n",
        "\n",
        "# Flatten the tuple of lists into a tuple\n",
        "flattened_tuple = tuple(sum(tuple_of_lists, ()))\n",
        "\n",
        "# Display the result\n",
        "print(\"Original Tuple of Lists:\", tuple_of_lists)\n",
        "print(\"Flattened Tuple:\", flattened_tuple)\n"
      ],
      "metadata": {
        "id": "7K5VQfcU-JOT"
      },
      "execution_count": null,
      "outputs": []
    },
    {
      "cell_type": "code",
      "source": [
        "#Python – Convert Nested Tuple to Custom Key Dictionary\n",
        "# Sample nested tuple\n",
        "nested_tuple = (('a', 1), ('b', 2), ('c', 3))\n",
        "\n",
        "# Convert the nested tuple to a dictionary with custom keys\n",
        "custom_key_dict = {key: value for key, value in nested_tuple}\n",
        "\n",
        "# Display the result\n",
        "print(\"Original Nested Tuple:\", nested_tuple)\n",
        "print(\"Converted Dictionary with Custom Keys:\", custom_key_dict)\n"
      ],
      "metadata": {
        "id": "DA4DAmBZ-y0J"
      },
      "execution_count": null,
      "outputs": []
    },
    {
      "cell_type": "code",
      "source": [
        "#Python Program for Binary Search (Recursive and Iterative)\n",
        "# Iterative Binary Search\n",
        "def binary_search_iterative(arr, target):\n",
        "    low, high = 0, len(arr) - 1\n",
        "\n",
        "    while low <= high:\n",
        "        mid = (low + high) // 2\n",
        "\n",
        "        if arr[mid] == target:\n",
        "            return mid\n",
        "        elif arr[mid] < target:\n",
        "            low = mid + 1\n",
        "        else:\n",
        "            high = mid - 1\n",
        "\n",
        "    return -1  # Element not found\n",
        "\n",
        "# Recursive Binary Search\n",
        "def binary_search_recursive(arr, target, low, high):\n",
        "    if low <= high:\n",
        "        mid = (low + high) // 2\n",
        "\n",
        "        if arr[mid] == target:\n",
        "            return mid\n",
        "        elif arr[mid] < target:\n",
        "            return binary_search_recursive(arr, target, mid + 1, high)\n",
        "        else:\n",
        "            return binary_search_recursive(arr, target, low, mid - 1)\n",
        "\n",
        "    return -1  # Element not found\n",
        "\n",
        "# Example usage:\n",
        "sorted_array = [1, 2, 3, 4, 5, 6, 7, 8, 9]\n",
        "target_element = 5\n",
        "\n",
        "# Iterative Binary Search\n",
        "result_iterative = binary_search_iterative(sorted_array, target_element)\n",
        "print(f\"Index of {target_element} (Iterative): {result_iterative}\")\n",
        "\n",
        "# Recursive Binary Search\n",
        "result_recursive = binary_search_recursive(sorted_array, target_element, 0, len(sorted_array) - 1)\n",
        "print(f\"Index of {target_element} (Recursive): {result_recursive}\")\n"
      ],
      "metadata": {
        "id": "lgaytAIQ-8GX"
      },
      "execution_count": null,
      "outputs": []
    },
    {
      "cell_type": "code",
      "source": [
        "#Python Program for Linear Search\n",
        "def linear_search(arr, target):\n",
        "    for i in range(len(arr)):\n",
        "        if arr[i] == target:\n",
        "            return i  # Return the index if the target is found\n",
        "    return -1  # Return -1 if the target is not found\n",
        "\n",
        "# Example usage:\n",
        "array = [1, 2, 3, 4, 5, 6, 7, 8, 9]\n",
        "target_element = 5\n",
        "\n",
        "result = linear_search(array, target_element)\n",
        "\n",
        "if result != -1:\n",
        "    print(f\"Element {target_element} found at index {result}\")\n",
        "else:\n",
        "    print(f\"Element {target_element} not found in the array\")\n"
      ],
      "metadata": {
        "id": "DOGlEdvb_an7"
      },
      "execution_count": null,
      "outputs": []
    },
    {
      "cell_type": "code",
      "source": [
        "#Python Program for Insertion Sort\n",
        "def insertion_sort(arr):\n",
        "    for i in range(1, len(arr)):\n",
        "        key = arr[i]\n",
        "        j = i - 1\n",
        "\n",
        "        while j >= 0 and key < arr[j]:\n",
        "            arr[j + 1] = arr[j]\n",
        "            j -= 1\n",
        "\n",
        "        arr[j + 1] = key\n",
        "\n",
        "# Example usage:\n",
        "array = [12, 11, 13, 5, 6]\n",
        "\n",
        "print(\"Original Array:\", array)\n",
        "\n",
        "insertion_sort(array)\n",
        "\n",
        "print(\"Sorted Array:\", array)\n"
      ],
      "metadata": {
        "id": "H_tKlW58_tJm"
      },
      "execution_count": null,
      "outputs": []
    }
  ]
}