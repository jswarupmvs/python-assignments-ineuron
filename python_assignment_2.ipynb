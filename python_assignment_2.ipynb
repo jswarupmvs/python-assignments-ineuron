{
  "nbformat": 4,
  "nbformat_minor": 0,
  "metadata": {
    "colab": {
      "provenance": []
    },
    "kernelspec": {
      "name": "python3",
      "display_name": "Python 3"
    },
    "language_info": {
      "name": "python"
    }
  },
  "cells": [
    {
      "cell_type": "code",
      "execution_count": null,
      "metadata": {
        "colab": {
          "base_uri": "https://localhost:8080/"
        },
        "id": "PuShRcUk0X6U",
        "outputId": "8b3385f0-3e0b-4a2c-ad63-5ae211e9b577"
      },
      "outputs": [
        {
          "output_type": "stream",
          "name": "stdout",
          "text": [
            "Enter a positive integer: 10\n",
            "The 10-th Fibonacci number is 55\n"
          ]
        }
      ],
      "source": [
        "#Python Program for n-th Fibonacci number\n",
        "def fibonacci_iterative(n):\n",
        "    if n <= 0:\n",
        "        return 0\n",
        "    elif n == 1:\n",
        "        return 1\n",
        "    else:\n",
        "        fib = [0] * (n + 1)\n",
        "        fib[1] = 1\n",
        "        for i in range(2, n + 1):\n",
        "            fib[i] = fib[i - 1] + fib[i - 2]\n",
        "        return fib[n]\n",
        "\n",
        "# Input the value of n\n",
        "n = int(input(\"Enter a positive integer: \"))\n",
        "\n",
        "if n < 0:\n",
        "    print(\"Please enter a positive integer.\")\n",
        "else:\n",
        "    result = fibonacci_iterative(n)\n",
        "    print(f\"The {n}-th Fibonacci number is {result}\")\n"
      ]
    },
    {
      "cell_type": "code",
      "source": [
        "#Python Program for How to check if a given number is Fibonacci number?\n",
        "import math\n",
        "\n",
        "def is_perfect_square(x):\n",
        "    # Function to check if a number is a perfect square\n",
        "    sqrt_x = int(math.sqrt(x))\n",
        "    return sqrt_x * sqrt_x == x\n",
        "\n",
        "def is_fibonacci(n):\n",
        "    if n < 0:\n",
        "        return False\n",
        "    # Check if 5 * n^2 + 4 or 5 * n^2 - 4 is a perfect square\n",
        "    return is_perfect_square(5 * n * n + 4) or is_perfect_square(5 * n * n - 4)\n",
        "\n",
        "# Input the number to check\n",
        "num = int(input(\"Enter a number: \"))\n",
        "\n",
        "if is_fibonacci(num):\n",
        "    print(f\"{num} is a Fibonacci number.\")\n",
        "else:\n",
        "    print(f\"{num} is not a Fibonacci number.\")\n"
      ],
      "metadata": {
        "colab": {
          "base_uri": "https://localhost:8080/"
        },
        "id": "-k-HKXqa5r5t",
        "outputId": "726c1927-7a2b-46f4-b14d-aea9c34070df"
      },
      "execution_count": null,
      "outputs": [
        {
          "output_type": "stream",
          "name": "stdout",
          "text": [
            "Enter a number: 10\n",
            "10 is not a Fibonacci number.\n"
          ]
        }
      ]
    },
    {
      "cell_type": "code",
      "source": [
        "#Python Program for n\\’th multiple of a number in Fibonacci Series\n",
        "def find_nth_multiple_in_fibonacci(n, target):\n",
        "    a, b = 0, 1\n",
        "    count = 0\n",
        "\n",
        "    while count < n:\n",
        "        if a % target == 0:\n",
        "            count += 1\n",
        "        a, b = b, a + b\n",
        "\n",
        "    return a\n",
        "\n",
        "# Input the values of n and the target number\n",
        "n = int(input(\"Enter n: \"))\n",
        "target = int(input(\"Enter the target number: \"))\n",
        "\n",
        "if n <= 0 or target <= 0:\n",
        "    print(\"Both n and the target number should be positive integers.\")\n",
        "else:\n",
        "    result = find_nth_multiple_in_fibonacci(n, target)\n",
        "    print(f\"The {n}-th multiple of {target} in the Fibonacci series is {result}\")\n"
      ],
      "metadata": {
        "colab": {
          "base_uri": "https://localhost:8080/"
        },
        "id": "NmloUnwf7302",
        "outputId": "b022a9b0-180d-4587-e856-3d6d91cf285e"
      },
      "execution_count": null,
      "outputs": [
        {
          "output_type": "stream",
          "name": "stdout",
          "text": [
            "Enter n: 10\n",
            "Enter the target number: 20\n",
            "The 10-th multiple of 20 in the Fibonacci series is 193270471243015279782059101964580241188515112465021394429\n"
          ]
        }
      ]
    },
    {
      "cell_type": "code",
      "source": [
        "#Program to print ASCII Value of a character\n",
        "# Input a character from the user\n",
        "char = input(\"Enter a character: \")\n",
        "\n",
        "# Check if the input is a single character\n",
        "if len(char) == 1:\n",
        "    ascii_value = ord(char)\n",
        "    print(f\"The ASCII value of '{char}' is {ascii_value}\")\n",
        "else:\n",
        "    print(\"Please enter a single character.\")\n"
      ],
      "metadata": {
        "colab": {
          "base_uri": "https://localhost:8080/"
        },
        "id": "_BeBXCXw9msA",
        "outputId": "b5edfde3-f74b-4e13-db42-1d03a6e8a731"
      },
      "execution_count": null,
      "outputs": [
        {
          "output_type": "stream",
          "name": "stdout",
          "text": [
            "Enter a character: 10\n",
            "Please enter a single character.\n"
          ]
        }
      ]
    },
    {
      "cell_type": "code",
      "source": [
        "#Python Program for Sum of squares of first n natural numbers\n",
        "def sum_of_squares(n):\n",
        "    return (n * (n + 1) * (2 * n + 1)) // 6\n",
        "\n",
        "# Example usage:\n",
        "n = int(input(\"Enter a positive integer (n): \"))\n",
        "\n",
        "if n < 1:\n",
        "    print(\"Please enter a positive integer.\")\n",
        "else:\n",
        "    result = sum_of_squares(n)\n",
        "    print(f\"The sum of the squares of the first {n} natural numbers is: {result}\")\n"
      ],
      "metadata": {
        "id": "beSgqQZtExPj"
      },
      "execution_count": null,
      "outputs": []
    },
    {
      "cell_type": "code",
      "source": [
        "#Python Program for cube sum of first n natural numbers\n",
        "def sum_of_cubes(n):\n",
        "    return (n * (n + 1) // 2) ** 2\n",
        "\n",
        "# Example usage:\n",
        "n = int(input(\"Enter a positive integer (n): \"))\n",
        "\n",
        "if n < 1:\n",
        "    print(\"Please enter a positive integer.\")\n",
        "else:\n",
        "    result = sum_of_cubes(n)\n",
        "    print(f\"The sum of the cubes of the first {n} natural numbers is: {result}\")\n"
      ],
      "metadata": {
        "id": "fmKWlNsmFJhl"
      },
      "execution_count": null,
      "outputs": []
    },
    {
      "cell_type": "code",
      "source": [
        "#Python Program to find sum of array\n",
        "def sum_of_array(arr):\n",
        "    return sum(arr)\n",
        "\n",
        "# Example usage:\n",
        "array = [1, 2, 3, 4, 5]\n",
        "\n",
        "result = sum_of_array(array)\n",
        "\n",
        "print(f\"The sum of the array {array} is: {result}\")\n"
      ],
      "metadata": {
        "id": "w-BfuJ5qFVae"
      },
      "execution_count": null,
      "outputs": []
    },
    {
      "cell_type": "code",
      "source": [
        "#Python Program to find largest element in an array\n",
        "def find_largest_element(arr):\n",
        "    if not arr:\n",
        "        return None  # Return None for an empty array\n",
        "    else:\n",
        "        return max(arr)\n",
        "\n",
        "# Example usage:\n",
        "array = [12, 45, 78, 23, 56]\n",
        "\n",
        "largest_element = find_largest_element(array)\n",
        "\n",
        "if largest_element is not None:\n",
        "    print(f\"The largest element in the array {array} is: {largest_element}\")\n",
        "else:\n",
        "    print(\"The array is empty.\")\n"
      ],
      "metadata": {
        "id": "HCpsC7A7FcmU"
      },
      "execution_count": null,
      "outputs": []
    },
    {
      "cell_type": "code",
      "source": [
        "#Python Program for array rotation\n",
        "def rotate_array(arr, k):\n",
        "    n = len(arr)\n",
        "    k = k % n  # To handle cases where k is greater than the length of the array\n",
        "\n",
        "    # Rotate the array using array slicing\n",
        "    rotated_array = arr[k:] + arr[:k]\n",
        "\n",
        "    return rotated_array\n",
        "\n",
        "# Example usage:\n",
        "array = [1, 2, 3, 4, 5]\n",
        "rotation_steps = int(input(\"Enter the number of rotations: \"))\n",
        "\n",
        "rotated_array = rotate_array(array, rotation_steps)\n",
        "\n",
        "print(f\"The original array: {array}\")\n",
        "print(f\"The rotated array: {rotated_array}\")\n"
      ],
      "metadata": {
        "id": "psPYp_UaFtjp"
      },
      "execution_count": null,
      "outputs": []
    },
    {
      "cell_type": "code",
      "source": [
        "#Python Program for Reversal algorithm for array rotation\n",
        "def reverse_array(arr, start, end):\n",
        "    while start < end:\n",
        "        arr[start], arr[end] = arr[end], arr[start]\n",
        "        start += 1\n",
        "        end -= 1\n",
        "\n",
        "def rotate_array(arr, k):\n",
        "    n = len(arr)\n",
        "    k = k % n  # To handle cases where k is greater than the length of the array\n",
        "\n",
        "    # Rotate the array using the reversal algorithm\n",
        "    reverse_array(arr, 0, n - 1)\n",
        "    reverse_array(arr, 0, k - 1)\n",
        "    reverse_array(arr, k, n - 1)\n",
        "\n",
        "# Example usage:\n",
        "array = [1, 2, 3, 4, 5]\n",
        "rotation_steps = int(input(\"Enter the number of rotations: \"))\n",
        "\n",
        "rotate_array(array, rotation_steps)\n",
        "\n",
        "print(f\"The original array: {array}\")\n"
      ],
      "metadata": {
        "id": "aj8NTZVBF-CN"
      },
      "execution_count": null,
      "outputs": []
    },
    {
      "cell_type": "code",
      "source": [
        "#Python Program to Split the array and add the first part to the end\n",
        "def split_and_add(arr, k):\n",
        "    n = len(arr)\n",
        "\n",
        "    if k > 0 and k < n:\n",
        "        # Split the array and add the first part to the end\n",
        "        rotated_array = arr[k:] + arr[:k]\n",
        "\n",
        "        return rotated_array\n",
        "    else:\n",
        "        print(\"Invalid value of k. It should be greater than 0 and less than the length of the array.\")\n",
        "        return arr\n",
        "\n",
        "# Example usage:\n",
        "array = [1, 2, 3, 4, 5]\n",
        "split_position = int(input(\"Enter the split position (k): \"))\n",
        "\n",
        "result_array = split_and_add(array, split_position)\n",
        "\n",
        "print(f\"The original array: {array}\")\n",
        "print(f\"The array after splitting and adding: {result_array}\")\n"
      ],
      "metadata": {
        "id": "c0ojvENmGMcS"
      },
      "execution_count": null,
      "outputs": []
    }
  ]
}