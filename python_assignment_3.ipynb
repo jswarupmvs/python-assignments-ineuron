{
  "nbformat": 4,
  "nbformat_minor": 0,
  "metadata": {
    "colab": {
      "provenance": []
    },
    "kernelspec": {
      "name": "python3",
      "display_name": "Python 3"
    },
    "language_info": {
      "name": "python"
    }
  },
  "cells": [
    {
      "cell_type": "code",
      "execution_count": null,
      "metadata": {
        "id": "YvlzEfR5HN9z"
      },
      "outputs": [],
      "source": [
        "#Python Program for Find reminder of array multiplication divided by n\n",
        "def array_multiplication_remainder(arr, n):\n",
        "    result = 1\n",
        "\n",
        "    for num in arr:\n",
        "        result = (result * num) % n\n",
        "\n",
        "    return result\n",
        "\n",
        "# Example usage:\n",
        "array = [1, 2, 3, 4, 5]\n",
        "divisor = int(input(\"Enter the divisor (n): \"))\n",
        "\n",
        "remainder = array_multiplication_remainder(array, divisor)\n",
        "\n",
        "print(f\"The remainder of the array multiplication divided by {divisor} is: {remainder}\")\n"
      ]
    },
    {
      "cell_type": "code",
      "source": [
        "#Python Program to check if given array is Monotonic\n",
        "def is_monotonic(arr):\n",
        "    increasing = decreasing = True\n",
        "\n",
        "    for i in range(1, len(arr)):\n",
        "        if arr[i] > arr[i - 1]:\n",
        "            decreasing = False\n",
        "        elif arr[i] < arr[i - 1]:\n",
        "            increasing = False\n",
        "\n",
        "    return increasing or decreasing\n",
        "\n",
        "# Example usage:\n",
        "array1 = [1, 2, 3, 4, 5]\n",
        "array2 = [5, 4, 3, 2, 1]\n",
        "array3 = [1, 2, 2, 3, 2]\n",
        "\n",
        "print(f\"Is {array1} monotonic? {is_monotonic(array1)}\")\n",
        "print(f\"Is {array2} monotonic? {is_monotonic(array2)}\")\n",
        "print(f\"Is {array3} monotonic? {is_monotonic(array3)}\")\n"
      ],
      "metadata": {
        "id": "bMTrRD32H_8o"
      },
      "execution_count": null,
      "outputs": []
    },
    {
      "cell_type": "code",
      "source": [
        "#Python program to interchange first and last elements in a list\n",
        "def interchange_first_last(lst):\n",
        "    if len(lst) >= 2:\n",
        "        lst[0], lst[-1] = lst[-1], lst[0]\n",
        "\n",
        "# Example usage:\n",
        "my_list = [1, 2, 3, 4, 5]\n",
        "\n",
        "print(\"Original List:\", my_list)\n",
        "\n",
        "interchange_first_last(my_list)\n",
        "\n",
        "print(\"List after interchanging first and last elements:\", my_list)\n"
      ],
      "metadata": {
        "id": "ECAwaxEkIMFA"
      },
      "execution_count": null,
      "outputs": []
    },
    {
      "cell_type": "code",
      "source": [
        "#Python program to swap two elements in a list\n",
        "def swap_elements(lst, index1, index2):\n",
        "    if 0 <= index1 < len(lst) and 0 <= index2 < len(lst):\n",
        "        lst[index1], lst[index2] = lst[index2], lst[index1]\n",
        "\n",
        "# Example usage:\n",
        "my_list = [1, 2, 3, 4, 5]\n",
        "\n",
        "print(\"Original List:\", my_list)\n",
        "\n",
        "index_to_swap1 = int(input(\"Enter the index of the first element to swap: \"))\n",
        "index_to_swap2 = int(input(\"Enter the index of the second element to swap: \"))\n",
        "\n",
        "swap_elements(my_list, index_to_swap1, index_to_swap2)\n",
        "\n",
        "print(\"List after swapping elements:\", my_list)\n"
      ],
      "metadata": {
        "id": "2UnDISbmIeZt"
      },
      "execution_count": null,
      "outputs": []
    },
    {
      "cell_type": "code",
      "source": [
        "#write a program to find length of list\n",
        "def find_length(lst):\n",
        "    return len(lst)\n",
        "\n",
        "# Example usage:\n",
        "my_list = [1, 2, 3, 4, 5]\n",
        "\n",
        "length = find_length(my_list)\n",
        "\n",
        "print(f\"The length of the list {my_list} is: {length}\")\n"
      ],
      "metadata": {
        "id": "EfJN_wp3Iuc7"
      },
      "execution_count": null,
      "outputs": []
    },
    {
      "cell_type": "code",
      "source": [
        "#write a program to check if element exists in list\n",
        "\n",
        "def element_exists(lst, element):\n",
        "    return element in lst\n",
        "\n",
        "# Example usage:\n",
        "my_list = [1, 2, 3, 4, 5]\n",
        "search_element = int(input(\"Enter the element to search: \"))\n",
        "\n",
        "if element_exists(my_list, search_element):\n",
        "    print(f\"{search_element} exists in the list {my_list}.\")\n",
        "else:\n",
        "    print(f\"{search_element} does not exist in the list {my_list}.\")\n"
      ],
      "metadata": {
        "id": "QJGZV9P2I7Sm"
      },
      "execution_count": null,
      "outputs": []
    },
    {
      "cell_type": "code",
      "source": [
        "#write a program to clear a list in Python\n",
        "def clear_list(lst):\n",
        "    lst.clear()\n",
        "\n",
        "# Example usage:\n",
        "my_list = [1, 2, 3, 4, 5]\n",
        "\n",
        "print(\"Original List:\", my_list)\n",
        "\n",
        "clear_list(my_list)\n",
        "\n",
        "print(\"List after clearing:\", my_list)\n"
      ],
      "metadata": {
        "id": "UnJVnzDPJrGW"
      },
      "execution_count": null,
      "outputs": []
    },
    {
      "cell_type": "code",
      "source": [
        "#write a program to Reversing a List\n",
        "def reverse_list(lst):\n",
        "    return lst[::-1]\n",
        "\n",
        "# Example usage:\n",
        "my_list = [1, 2, 3, 4, 5]\n",
        "\n",
        "print(\"Original List:\", my_list)\n",
        "\n",
        "reversed_list = reverse_list(my_list)\n",
        "\n",
        "print(\"Reversed List:\", reversed_list)\n"
      ],
      "metadata": {
        "id": "OfjOsk8tJ5J4"
      },
      "execution_count": null,
      "outputs": []
    },
    {
      "cell_type": "code",
      "source": [
        "#write a program to find sum of elements in list\n",
        "def sum_of_elements(lst):\n",
        "    return sum(lst)\n",
        "\n",
        "# Example usage:\n",
        "my_list = [1, 2, 3, 4, 5]\n",
        "\n",
        "sum_result = sum_of_elements(my_list)\n",
        "\n",
        "print(f\"The sum of elements in the list {my_list} is: {sum_result}\")\n"
      ],
      "metadata": {
        "id": "56MjmaTgKH3l"
      },
      "execution_count": null,
      "outputs": []
    },
    {
      "cell_type": "code",
      "source": [
        "#write a program to Multiply all numbers in the list\n",
        "def multiply_list_elements(lst):\n",
        "    result = 1\n",
        "\n",
        "    for num in lst:\n",
        "        result *= num\n",
        "\n",
        "    return result\n",
        "\n",
        "# Example usage:\n",
        "my_list = [1, 2, 3, 4, 5]\n",
        "\n",
        "product = multiply_list_elements(my_list)\n",
        "\n",
        "print(f\"The product of all numbers in the list {my_list} is: {product}\")\n"
      ],
      "metadata": {
        "id": "ZmcrAyK7KPGc"
      },
      "execution_count": null,
      "outputs": []
    }
  ]
}