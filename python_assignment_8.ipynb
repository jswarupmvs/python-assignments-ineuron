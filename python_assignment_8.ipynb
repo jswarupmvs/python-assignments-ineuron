{
  "nbformat": 4,
  "nbformat_minor": 0,
  "metadata": {
    "colab": {
      "provenance": []
    },
    "kernelspec": {
      "name": "python3",
      "display_name": "Python 3"
    },
    "language_info": {
      "name": "python"
    }
  },
  "cells": [
    {
      "cell_type": "code",
      "execution_count": null,
      "metadata": {
        "id": "uIcpLVI4m0Ac"
      },
      "outputs": [],
      "source": [
        "#Python – Least Frequent Character in String\n",
        "def least_frequent_character(input_string):\n",
        "    char_count = {}\n",
        "\n",
        "    # Count occurrences of each character\n",
        "    for char in input_string:\n",
        "        char_count[char] = char_count.get(char, 0) + 1\n",
        "\n",
        "    # Find the least frequent character\n",
        "    least_frequent_char = min(char_count, key=char_count.get)\n",
        "\n",
        "    return least_frequent_char\n",
        "\n",
        "# Example usage:\n",
        "input_string = \"programming\"\n",
        "result = least_frequent_character(input_string)\n",
        "\n",
        "print(\"Original String:\", input_string)\n",
        "print(\"Least Frequent Character:\", result)\n"
      ]
    },
    {
      "cell_type": "code",
      "source": [
        "#Python | Maximum frequency character in String\n",
        "def max_frequency_character(input_string):\n",
        "    char_count = {}\n",
        "\n",
        "    # Count occurrences of each character\n",
        "    for char in input_string:\n",
        "        char_count[char] = char_count.get(char, 0) + 1\n",
        "\n",
        "    # Find the character with the maximum frequency\n",
        "    max_frequency_char = max(char_count, key=char_count.get)\n",
        "\n",
        "    return max_frequency_char\n",
        "\n",
        "# Example usage:\n",
        "input_string = \"programming\"\n",
        "result = max_frequency_character(input_string)\n",
        "\n",
        "print(\"Original String:\", input_string)\n",
        "print(\"Character with Maximum Frequency:\", result)\n"
      ],
      "metadata": {
        "id": "iamzCn5snPpP"
      },
      "execution_count": null,
      "outputs": []
    },
    {
      "cell_type": "code",
      "source": [
        "#Python | Program to check if a string contains any special character\n",
        "import re\n",
        "\n",
        "def contains_special_character(input_string):\n",
        "    # Define a regular expression pattern for special characters\n",
        "    special_char_pattern = re.compile(r'[@_!#$%^&*()<>?/\\|}{~:]')\n",
        "\n",
        "    # Check if the string contains any special character\n",
        "    return bool(special_char_pattern.search(input_string))\n",
        "\n",
        "# Example usage:\n",
        "input_string = \"Hello@World!\"\n",
        "result = contains_special_character(input_string)\n",
        "\n",
        "if result:\n",
        "    print(f\"The string '{input_string}' contains special characters.\")\n",
        "else:\n",
        "    print(f\"The string '{input_string}' does not contain any special characters.\")\n"
      ],
      "metadata": {
        "id": "FtaUFEtfnUat"
      },
      "execution_count": null,
      "outputs": []
    },
    {
      "cell_type": "code",
      "source": [
        "#Generating random strings until a given string is generated\n",
        "import random\n",
        "import string\n",
        "\n",
        "def generate_random_string(length):\n",
        "    return ''.join(random.choice(string.ascii_letters + string.digits) for _ in range(length))\n",
        "\n",
        "def generate_until_match(target_string):\n",
        "    generated_string = \"\"\n",
        "    attempts = 0\n",
        "\n",
        "    while generated_string != target_string:\n",
        "        generated_string = generate_random_string(len(target_string))\n",
        "        attempts += 1\n",
        "\n",
        "    return generated_string, attempts\n",
        "\n",
        "# Example usage:\n",
        "target_string = \"hello123\"\n",
        "result, num_attempts = generate_until_match(target_string)\n",
        "\n",
        "print(f\"Target String: {target_string}\")\n",
        "print(f\"Generated String: {result}\")\n",
        "print(f\"Number of Attempts: {num_attempts}\")\n"
      ],
      "metadata": {
        "id": "ZGRTzqUTnaaW"
      },
      "execution_count": null,
      "outputs": []
    },
    {
      "cell_type": "code",
      "source": [
        "#Find words which are greater than given length k\n",
        "def find_words_greater_than_k(input_string, k):\n",
        "    words = input_string.split()\n",
        "    result_words = [word for word in words if len(word) > k]\n",
        "    return result_words\n",
        "\n",
        "# Example usage:\n",
        "input_string = \"This is a sample string with words of different lengths\"\n",
        "k = 4\n",
        "result = find_words_greater_than_k(input_string, k)\n",
        "\n",
        "print(\"Original String:\", input_string)\n",
        "print(f\"Words greater than length {k}:\", result)\n"
      ],
      "metadata": {
        "id": "987u_mdUngUp"
      },
      "execution_count": null,
      "outputs": []
    },
    {
      "cell_type": "code",
      "source": [
        "#Python program for removing i-th character from a string\n",
        "def remove_ith_character(input_string, i):\n",
        "    if 0 <= i < len(input_string):\n",
        "        result_string = input_string[:i] + input_string[i+1:]\n",
        "        return result_string\n",
        "    else:\n",
        "        return \"Invalid index\"\n",
        "\n",
        "# Example usage:\n",
        "input_string = \"example\"\n",
        "i = 2\n",
        "result = remove_ith_character(input_string, i)\n",
        "\n",
        "print(\"Original String:\", input_string)\n",
        "print(f\"String after removing the {i}th character:\", result)\n"
      ],
      "metadata": {
        "id": "C6cIGpLyoTEF"
      },
      "execution_count": null,
      "outputs": []
    },
    {
      "cell_type": "code",
      "source": [
        "#Python program to split and join a string\n",
        "def split_and_join(input_string):\n",
        "    # Split the string into a list of words\n",
        "    words_list = input_string.split()\n",
        "\n",
        "    # Join the words into a string using space as the separator\n",
        "    result_string = ' '.join(words_list)\n",
        "\n",
        "    return words_list, result_string\n",
        "\n",
        "# Example usage:\n",
        "input_string = \"This is a sample string.\"\n",
        "words_list, joined_string = split_and_join(input_string)\n",
        "\n",
        "print(\"Original String:\", input_string)\n",
        "print(\"List of Words:\", words_list)\n",
        "print(\"String after Joining:\", joined_string)\n"
      ],
      "metadata": {
        "id": "rQaggy_4siMk"
      },
      "execution_count": null,
      "outputs": []
    },
    {
      "cell_type": "code",
      "source": [
        "Python | Check if a given string is binary string or not\n",
        "def is_binary_string(input_string):\n",
        "    for char in input_string:\n",
        "        if char != '0' and char != '1':\n",
        "            return False\n",
        "    return True\n",
        "\n",
        "# Example usage:\n",
        "binary_string = \"101010\"\n",
        "result = is_binary_string(binary_string)\n",
        "\n",
        "if result:\n",
        "    print(f\"The string '{binary_string}' is a binary string.\")\n",
        "else:\n",
        "    print(f\"The string '{binary_string}' is not a binary string.\")\n"
      ],
      "metadata": {
        "id": "IcNXW7XQsvVa"
      },
      "execution_count": null,
      "outputs": []
    },
    {
      "cell_type": "code",
      "source": [
        "#Python program to find uncommon words from two Strings\n",
        "def find_uncommon_words(string1, string2):\n",
        "    words_set1 = set(string1.split())\n",
        "    words_set2 = set(string2.split())\n",
        "\n",
        "    uncommon_words = words_set1.symmetric_difference(words_set2)\n",
        "\n",
        "    return uncommon_words\n",
        "\n",
        "# Example usage:\n",
        "string1 = \"This is a sample string.\"\n",
        "string2 = \"Here is another string with different words.\"\n",
        "\n",
        "uncommon_words_result = find_uncommon_words(string1, string2)\n",
        "\n",
        "print(\"String 1:\", string1)\n",
        "print(\"String 2:\", string2)\n",
        "print(\"Uncommon Words:\", uncommon_words_result)\n"
      ],
      "metadata": {
        "id": "U68Njhv5s_QV"
      },
      "execution_count": null,
      "outputs": []
    },
    {
      "cell_type": "code",
      "source": [
        "#Python – Replace duplicate Occurrence in String\n",
        "def replace_duplicate_occurrence(input_string, replacement_char):\n",
        "    char_occurrences = {}\n",
        "    result_string = \"\"\n",
        "\n",
        "    for char in input_string:\n",
        "        if char in char_occurrences:\n",
        "            char_occurrences[char] += 1\n",
        "            if char_occurrences[char] > 1:\n",
        "                result_string += replacement_char\n",
        "            else:\n",
        "                result_string += char\n",
        "        else:\n",
        "            char_occurrences[char] = 1\n",
        "            result_string += char\n",
        "\n",
        "    return result_string\n",
        "\n",
        "# Example usage:\n",
        "input_string = \"programming\"\n",
        "replacement_char = '*'\n",
        "result = replace_duplicate_occurrence(input_string, replacement_char)\n",
        "\n",
        "print(\"Original String:\", input_string)\n",
        "print(f\"String after replacing duplicate occurrences with '{replacement_char}': {result}\")\n"
      ],
      "metadata": {
        "id": "Dq9IazdJtGYw"
      },
      "execution_count": null,
      "outputs": []
    }
  ]
}