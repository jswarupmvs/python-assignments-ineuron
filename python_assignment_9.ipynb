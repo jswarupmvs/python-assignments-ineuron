{
  "nbformat": 4,
  "nbformat_minor": 0,
  "metadata": {
    "colab": {
      "provenance": []
    },
    "kernelspec": {
      "name": "python3",
      "display_name": "Python 3"
    },
    "language_info": {
      "name": "python"
    }
  },
  "cells": [
    {
      "cell_type": "code",
      "execution_count": null,
      "metadata": {
        "id": "So4kceoHtWpU"
      },
      "outputs": [],
      "source": [
        "#Python – Replace multiple words with K\n",
        "def replace_multiple_words(input_string, words_to_replace, replacement_char='K'):\n",
        "    for word in words_to_replace:\n",
        "        input_string = input_string.replace(word, replacement_char)\n",
        "    return input_string\n",
        "\n",
        "# Example usage:\n",
        "input_string = \"This is a sample string. Replace words with K.\"\n",
        "words_to_replace = [\"is\", \"string\", \"with\"]\n",
        "\n",
        "result = replace_multiple_words(input_string, words_to_replace)\n",
        "\n",
        "print(\"Original String:\", input_string)\n",
        "print(f\"String after replacing words with '{result}'\")\n"
      ]
    },
    {
      "cell_type": "code",
      "source": [
        "#Python | Permutation of a given string using inbuilt function\n",
        "from itertools import permutations\n",
        "\n",
        "def string_permutations(input_string):\n",
        "    # Use itertools.permutations to generate all permutations\n",
        "    permuted_strings = permutations(input_string)\n",
        "\n",
        "    # Convert each permutation tuple to a string and store in a list\n",
        "    result = [''.join(permutation) for permutation in permuted_strings]\n",
        "\n",
        "    return result\n",
        "\n",
        "# Example usage:\n",
        "input_string = \"abc\"\n",
        "permutations_result = string_permutations(input_string)\n",
        "\n",
        "print(f\"Original String: {input_string}\")\n",
        "print(\"Permutations:\")\n",
        "for permuted_string in permutations_result:\n",
        "    print(permuted_string)\n"
      ],
      "metadata": {
        "id": "SVRZI4QZtkMz"
      },
      "execution_count": null,
      "outputs": []
    },
    {
      "cell_type": "code",
      "source": [
        "#Python | Check for URL in a String\n",
        "import re\n",
        "\n",
        "def contains_url(input_string):\n",
        "    # Define a regular expression pattern for detecting URLs\n",
        "    url_pattern = re.compile(r'https?://\\S+')\n",
        "\n",
        "    # Search for the pattern in the input string\n",
        "    match = url_pattern.search(input_string)\n",
        "\n",
        "    return bool(match)\n",
        "\n",
        "# Example usage:\n",
        "input_string = \"Check out the latest news at https://example.com\"\n",
        "result = contains_url(input_string)\n",
        "\n",
        "if result:\n",
        "    print(f\"The string '{input_string}' contains a URL.\")\n",
        "else:\n",
        "    print(f\"The string '{input_string}' does not contain a URL.\")\n"
      ],
      "metadata": {
        "id": "nrvtPNXRtqKO"
      },
      "execution_count": null,
      "outputs": []
    },
    {
      "cell_type": "code",
      "source": [
        "#Execute a String of Code in Python\n",
        "code_to_execute = '''\n",
        "def greet(name):\n",
        "    print(\"Hello, \" + name + \"!\")\n",
        "\n",
        "greet(\"World\")\n",
        "'''\n",
        "\n",
        "try:\n",
        "    exec(code_to_execute)\n",
        "except Exception as e:\n",
        "    print(f\"Error: {e}\")\n"
      ],
      "metadata": {
        "id": "josD6jLztwX9"
      },
      "execution_count": null,
      "outputs": []
    },
    {
      "cell_type": "code",
      "source": [
        "#String slicing in Python to rotate a string\n",
        "def rotate_string(input_string, k):\n",
        "    n = len(input_string)\n",
        "\n",
        "    # Use modulo to handle rotations larger than the string length\n",
        "    k = k % n\n",
        "\n",
        "    # Perform rotation using string slicing\n",
        "    rotated_string = input_string[k:] + input_string[:k]\n",
        "\n",
        "    return rotated_string\n",
        "\n",
        "# Example usage:\n",
        "input_string = \"abcdef\"\n",
        "rotation_count = 2\n",
        "result = rotate_string(input_string, rotation_count)\n",
        "\n",
        "print(f\"Original String: {input_string}\")\n",
        "print(f\"Rotated String: {result}\")\n"
      ],
      "metadata": {
        "id": "r0DPB94kt2a7"
      },
      "execution_count": null,
      "outputs": []
    },
    {
      "cell_type": "code",
      "source": [
        "#String slicing in Python to check if a string can become empty by recursive deletion\n",
        "def is_empty_recursive(input_string, target_string):\n",
        "    if input_string == target_string:\n",
        "        return True\n",
        "\n",
        "    for i in range(len(input_string)):\n",
        "        new_string = input_string[:i] + input_string[i+1:]\n",
        "        if is_empty_recursive(new_string, target_string):\n",
        "            return True\n",
        "\n",
        "    return False\n",
        "\n",
        "# Example usage:\n",
        "input_string = \"abcabc\"\n",
        "target_string = \"\"\n",
        "result = is_empty_recursive(input_string, target_string)\n",
        "\n",
        "if result:\n",
        "    print(f\"The string '{input_string}' can become empty by recursive deletion.\")\n",
        "else:\n",
        "    print(f\"The string '{input_string}' cannot become empty by recursive deletion.\")\n"
      ],
      "metadata": {
        "id": "CXtr6NpHuAij"
      },
      "execution_count": null,
      "outputs": []
    },
    {
      "cell_type": "code",
      "source": [
        "#Python Counter| Find all duplicate characters in string\n",
        "from collections import Counter\n",
        "\n",
        "def find_duplicates(input_string):\n",
        "    # Count the occurrences of each character\n",
        "    char_counts = Counter(input_string)\n",
        "\n",
        "    # Find characters with counts greater than 1 (duplicates)\n",
        "    duplicates = [char for char, count in char_counts.items() if count > 1]\n",
        "\n",
        "    return duplicates\n",
        "\n",
        "# Example usage:\n",
        "input_string = \"programming\"\n",
        "duplicate_characters = find_duplicates(input_string)\n",
        "\n",
        "print(\"Original String:\", input_string)\n",
        "print(\"Duplicate Characters:\", duplicate_characters)\n"
      ],
      "metadata": {
        "id": "ats2aTMGuRFl"
      },
      "execution_count": null,
      "outputs": []
    },
    {
      "cell_type": "code",
      "source": [
        "#Python – Replace all occurrences of a substring in a string\n",
        "def replace_substring(input_string, old_substring, new_substring):\n",
        "    # Use str.replace() to replace all occurrences of old_substring with new_substring\n",
        "    result_string = input_string.replace(old_substring, new_substring)\n",
        "\n",
        "    return result_string\n",
        "\n",
        "# Example usage:\n",
        "input_string = \"apple is a fruit. An apple a day keeps the doctor away.\"\n",
        "old_substring = \"apple\"\n",
        "new_substring = \"orange\"\n",
        "\n",
        "result = replace_substring(input_string, old_substring, new_substring)\n",
        "\n",
        "print(\"Original String:\", input_string)\n",
        "print(\"String after replacement:\", result)\n"
      ],
      "metadata": {
        "id": "Jech7Lvfubt6"
      },
      "execution_count": null,
      "outputs": []
    },
    {
      "cell_type": "code",
      "source": [
        "#Python – Extract Unique values dictionary values\n",
        "def extract_unique_values(dictionary):\n",
        "    unique_values = set()\n",
        "\n",
        "    for values_list in dictionary.values():\n",
        "        unique_values.update(set(values_list))\n",
        "\n",
        "    return list(unique_values)\n",
        "\n",
        "# Example usage:\n",
        "my_dict = {\n",
        "    'key1': [1, 2, 3],\n",
        "    'key2': [2, 3, 4],\n",
        "    'key3': [3, 4, 5]\n",
        "}\n",
        "\n",
        "unique_values_result = extract_unique_values(my_dict)\n",
        "\n",
        "print(\"Original Dictionary:\")\n",
        "print(my_dict)\n",
        "print(\"Unique Values:\")\n",
        "print(unique_values_result)\n"
      ],
      "metadata": {
        "id": "iTMTFCyVumvU"
      },
      "execution_count": null,
      "outputs": []
    },
    {
      "cell_type": "code",
      "source": [
        "#Python program to find the sum of all items in a dictionary\n",
        "def sum_of_dictionary_values(dictionary):\n",
        "    return sum(dictionary.values())\n",
        "\n",
        "# Example usage:\n",
        "my_dict = {'a': 10, 'b': 20, 'c': 30}\n",
        "\n",
        "sum_result = sum_of_dictionary_values(my_dict)\n",
        "\n",
        "print(\"Original Dictionary:\")\n",
        "print(my_dict)\n",
        "print(\"Sum of Dictionary Values:\", sum_result)\n"
      ],
      "metadata": {
        "id": "7NgpK5_Husy8"
      },
      "execution_count": null,
      "outputs": []
    }
  ]
}