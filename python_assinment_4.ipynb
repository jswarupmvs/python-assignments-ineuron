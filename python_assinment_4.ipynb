{
  "nbformat": 4,
  "nbformat_minor": 0,
  "metadata": {
    "colab": {
      "provenance": []
    },
    "kernelspec": {
      "name": "python3",
      "display_name": "Python 3"
    },
    "language_info": {
      "name": "python"
    }
  },
  "cells": [
    {
      "cell_type": "code",
      "execution_count": null,
      "metadata": {
        "id": "v9zQwpCPEwqN"
      },
      "outputs": [],
      "source": [
        "#Python program to find smallest number in a list\n",
        "def find_smallest_number(my_list):\n",
        "    return min(my_list)\n",
        "\n",
        "# Example usage:\n",
        "example_list = [5, 2, 8, 1, 3]\n",
        "smallest_number = find_smallest_number(example_list)\n",
        "\n",
        "print(f\"The smallest number in the list is: {smallest_number}\")\n"
      ]
    },
    {
      "cell_type": "code",
      "source": [
        "#Python program to find largest number in a list\n",
        "def find_largest_number(my_list):\n",
        "    return max(my_list)\n",
        "\n",
        "# Example usage:\n",
        "example_list = [5, 2, 8, 1, 3]\n",
        "largest_number = find_largest_number(example_list)\n",
        "\n",
        "print(f\"The largest number in the list is: {largest_number}\")\n"
      ],
      "metadata": {
        "id": "4SjsCfK1FFJV"
      },
      "execution_count": null,
      "outputs": []
    },
    {
      "cell_type": "code",
      "source": [
        "#Python program to find second largest number in a list\n",
        "def find_second_largest(my_list):\n",
        "    if len(my_list) < 2:\n",
        "        return \"List should have at least two elements.\"\n",
        "\n",
        "    largest = second_largest = float('-inf')\n",
        "\n",
        "    for num in my_list:\n",
        "        if num > largest:\n",
        "            second_largest = largest\n",
        "            largest = num\n",
        "        elif num > second_largest and num != largest:\n",
        "            second_largest = num\n",
        "\n",
        "    return second_largest\n",
        "\n",
        "# Example usage:\n",
        "example_list = [5, 2, 8, 1, 3]\n",
        "second_largest_number = find_second_largest(example_list)\n",
        "\n",
        "print(f\"The second largest number in the list is: {second_largest_number}\")\n"
      ],
      "metadata": {
        "id": "o_R-V7omFJ5w"
      },
      "execution_count": null,
      "outputs": []
    },
    {
      "cell_type": "code",
      "source": [
        "#Python program to find N largest elements from a list\n",
        "def find_n_largest(my_list, n):\n",
        "    if len(my_list) < n:\n",
        "        return f\"List should have at least {n} elements.\"\n",
        "\n",
        "    largest_elements = []\n",
        "\n",
        "    for _ in range(n):\n",
        "        current_largest = max(my_list)\n",
        "        largest_elements.append(current_largest)\n",
        "        my_list.remove(current_largest)\n",
        "\n",
        "    return largest_elements\n",
        "\n",
        "# Example usage:\n",
        "example_list = [5, 2, 8, 1, 3]\n",
        "n = 3  # Change this value to find a different number of largest elements\n",
        "\n",
        "n_largest_elements = find_n_largest(example_list, n)\n",
        "\n",
        "print(f\"The {n} largest elements in the list are: {n_largest_elements}\")\n"
      ],
      "metadata": {
        "id": "gxnigdTtIGsj"
      },
      "execution_count": null,
      "outputs": []
    },
    {
      "cell_type": "code",
      "source": [
        "#Python program to print even numbers in a list\n",
        "def print_even_numbers(my_list):\n",
        "    even_numbers = [num for num in my_list if num % 2 == 0]\n",
        "    print(\"Even numbers in the list:\", even_numbers)\n",
        "\n",
        "# Example usage:\n",
        "example_list = [1, 2, 3, 4, 5, 6, 7, 8, 9, 10]\n",
        "print_even_numbers(example_list)\n"
      ],
      "metadata": {
        "id": "IctrDnHDLiio"
      },
      "execution_count": null,
      "outputs": []
    },
    {
      "cell_type": "code",
      "source": [
        "#Python program to print odd numbers in a List\n",
        "def print_odd_numbers(my_list):\n",
        "    odd_numbers = [num for num in my_list if num % 2 != 0]\n",
        "    print(\"Odd numbers in the list:\", odd_numbers)\n",
        "\n",
        "# Example usage:\n",
        "example_list = [1, 2, 3, 4, 5, 6, 7, 8, 9, 10]\n",
        "print_odd_numbers(example_list)\n"
      ],
      "metadata": {
        "id": "cuTd7J0wMMtu"
      },
      "execution_count": null,
      "outputs": []
    },
    {
      "cell_type": "code",
      "source": [
        "#Python program to print all even numbers in a range\n",
        "def print_even_numbers_in_range(start, end):\n",
        "    even_numbers = [num for num in range(start, end + 1) if num % 2 == 0]\n",
        "    print(\"Even numbers in the range:\", even_numbers)\n",
        "\n",
        "# Example usage:\n",
        "start_range = 1\n",
        "end_range = 20\n",
        "print_even_numbers_in_range(start_range, end_range)\n"
      ],
      "metadata": {
        "id": "tJB_U9eeMUws"
      },
      "execution_count": null,
      "outputs": []
    },
    {
      "cell_type": "code",
      "source": [
        "#Python program to print all odd numbers in a range\n",
        "def print_odd_numbers_in_range(start, end):\n",
        "    odd_numbers = [num for num in range(start, end + 1) if num % 2 != 0]\n",
        "    print(\"Odd numbers in the range:\", odd_numbers)\n",
        "\n",
        "# Example usage:\n",
        "start_range = 1\n",
        "end_range = 20\n",
        "print_odd_numbers_in_range(start_range, end_range)\n"
      ],
      "metadata": {
        "id": "XeEmJ8MhMa-d"
      },
      "execution_count": null,
      "outputs": []
    },
    {
      "cell_type": "code",
      "source": [
        "#Python program to print positive numbers in a list\n",
        "def print_positive_numbers(my_list):\n",
        "    positive_numbers = [num for num in my_list if num > 0]\n",
        "    print(\"Positive numbers in the list:\", positive_numbers)\n",
        "\n",
        "# Example usage:\n",
        "example_list = [-1, 2, -3, 4, -5, 6, 7, -8, 9, -10]\n",
        "print_positive_numbers(example_list)\n"
      ],
      "metadata": {
        "id": "rpIYk6jrMjfU"
      },
      "execution_count": null,
      "outputs": []
    },
    {
      "cell_type": "code",
      "source": [
        "#Python program to print negative numbers in a list\n",
        "def print_negative_numbers(my_list):\n",
        "    negative_numbers = [num for num in my_list if num < 0]\n",
        "    print(\"Negative numbers in the list:\", negative_numbers)\n",
        "\n",
        "# Example usage:\n",
        "example_list = [-1, 2, -3, 4, -5, 6, 7, -8, 9, -10]\n",
        "print_negative_numbers(example_list)\n"
      ],
      "metadata": {
        "id": "ehpygabkMo-E"
      },
      "execution_count": null,
      "outputs": []
    },
    {
      "cell_type": "code",
      "source": [
        "#Python program to print all positive numbers in a range\n",
        "def print_positive_numbers_in_range(start, end):\n",
        "    positive_numbers = [num for num in range(start, end + 1) if num > 0]\n",
        "    print(\"Positive numbers in the range:\", positive_numbers)\n",
        "\n",
        "# Example usage:\n",
        "start_range = -5\n",
        "end_range = 5\n",
        "print_positive_numbers_in_range(start_range, end_range)\n"
      ],
      "metadata": {
        "id": "Z9LPz3uDMvKs"
      },
      "execution_count": null,
      "outputs": []
    }
  ]
}