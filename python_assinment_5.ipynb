{
  "nbformat": 4,
  "nbformat_minor": 0,
  "metadata": {
    "colab": {
      "provenance": []
    },
    "kernelspec": {
      "name": "python3",
      "display_name": "Python 3"
    },
    "language_info": {
      "name": "python"
    }
  },
  "cells": [
    {
      "cell_type": "code",
      "execution_count": null,
      "metadata": {
        "id": "uWDgfmTPNP8r"
      },
      "outputs": [],
      "source": [
        "#Python program to print all negative numbers in a range\n",
        "def print_negative_numbers_in_range(start, end):\n",
        "    negative_numbers = [num for num in range(start, end + 1) if num < 0]\n",
        "    print(\"Negative numbers in the range:\", negative_numbers)\n",
        "\n",
        "# Example usage:\n",
        "start_range = -5\n",
        "end_range = 5\n",
        "print_negative_numbers_in_range(start_range, end_range)\n"
      ]
    },
    {
      "cell_type": "code",
      "source": [
        "#Remove multiple elements from a list in Python\n",
        "def remove_elements_by_value(my_list, elements_to_remove):\n",
        "    new_list = [element for element in my_list if element not in elements_to_remove]\n",
        "    return new_list\n",
        "\n",
        "# Example usage:\n",
        "original_list = [1, 2, 3, 4, 5, 6]\n",
        "elements_to_remove = [2, 4, 6]\n",
        "updated_list = remove_elements_by_value(original_list, elements_to_remove)\n",
        "\n",
        "print(\"Original List:\", original_list)\n",
        "print(\"List after removal:\", updated_list)\n"
      ],
      "metadata": {
        "id": "cYeTgIVUNmYF"
      },
      "execution_count": null,
      "outputs": []
    },
    {
      "cell_type": "code",
      "source": [
        "#def remove_empty_lists(my_list):\n",
        "    cleaned_list = [sublist for sublist in my_list if sublist]\n",
        "    return cleaned_list\n",
        "\n",
        "# Example usage:\n",
        "original_list = [ [1, 2, 3], [], [4, 5], [], [6], [] ]\n",
        "cleaned_list = remove_empty_lists(original_list)\n",
        "\n",
        "print(\"Original List:\", original_list)\n",
        "print(\"List after removing empty lists:\", cleaned_list)\n"
      ],
      "metadata": {
        "id": "J7lMTcI_NsOI"
      },
      "execution_count": null,
      "outputs": []
    },
    {
      "cell_type": "code",
      "source": [
        "#write a Python program to Cloning or Copying a list\n",
        "# Using copy method\n",
        "original_list = [1, 2, 3, 4, 5]\n",
        "cloned_list_copy = original_list.copy()\n",
        "\n",
        "# Using list() constructor\n",
        "cloned_list_constructor = list(original_list)\n",
        "\n",
        "print(\"Original List:\", original_list)\n",
        "print(\"Cloned List (copy method):\", cloned_list_copy)\n",
        "print(\"Cloned List (constructor):\", cloned_list_constructor)\n"
      ],
      "metadata": {
        "id": "D3WjyJUKPeMA"
      },
      "execution_count": null,
      "outputs": []
    },
    {
      "cell_type": "code",
      "source": [
        "#write a Python program to Count occurrences of an element in a list\n",
        "def count_occurrences(my_list, element):\n",
        "    return my_list.count(element)\n",
        "\n",
        "# Example usage:\n",
        "example_list = [1, 2, 3, 4, 2, 5, 2, 6]\n",
        "element_to_count = 2\n",
        "\n",
        "occurrences = count_occurrences(example_list, element_to_count)\n",
        "\n",
        "print(f\"The element {element_to_count} occurs {occurrences} times in the list.\")\n"
      ],
      "metadata": {
        "id": "0nZbC1O7bmaD"
      },
      "execution_count": null,
      "outputs": []
    },
    {
      "cell_type": "code",
      "source": [
        "#write a Python program to Remove empty tuples from a list\n",
        "def remove_empty_tuples(my_list):\n",
        "    cleaned_list = [tup for tup in my_list if tup]\n",
        "    return cleaned_list\n",
        "\n",
        "# Example usage:\n",
        "original_list = [(1, 2), (), (3, 4), (), (5,), ()]\n",
        "cleaned_list = remove_empty_tuples(original_list)\n",
        "\n",
        "print(\"Original List:\", original_list)\n",
        "print(\"List after removing empty tuples:\", cleaned_list)\n"
      ],
      "metadata": {
        "id": "cRg6cuLfbskh"
      },
      "execution_count": null,
      "outputs": []
    },
    {
      "cell_type": "code",
      "source": [
        "#write a Python program to Program to print duplicates from a list of integers\n",
        "def find_duplicates(my_list):\n",
        "    seen = set()\n",
        "    duplicates = set()\n",
        "\n",
        "    for num in my_list:\n",
        "        if num in seen:\n",
        "            duplicates.add(num)\n",
        "        else:\n",
        "            seen.add(num)\n",
        "\n",
        "    return list(duplicates)\n",
        "\n",
        "# Example usage:\n",
        "original_list = [1, 2, 3, 2, 4, 5, 6, 3, 7, 8, 1]\n",
        "duplicate_elements = find_duplicates(original_list)\n",
        "\n",
        "print(\"Original List:\", original_list)\n",
        "print(\"Duplicate elements in the list:\", duplicate_elements)\n"
      ],
      "metadata": {
        "id": "9_HA6fGHbykh"
      },
      "execution_count": null,
      "outputs": []
    },
    {
      "cell_type": "code",
      "source": [
        "#write a Python program to find Cumulative sum of a list\n",
        "def cumulative_sum(my_list):\n",
        "    cum_sum = 0\n",
        "    cum_sum_list = []\n",
        "\n",
        "    for num in my_list:\n",
        "        cum_sum += num\n",
        "        cum_sum_list.append(cum_sum)\n",
        "\n",
        "    return cum_sum_list\n",
        "\n",
        "# Example usage:\n",
        "original_list = [1, 2, 3, 4, 5]\n",
        "cumulative_sum_list = cumulative_sum(original_list)\n",
        "\n",
        "print(\"Original List:\", original_list)\n",
        "print(\"Cumulative Sum List:\", cumulative_sum_list)\n"
      ],
      "metadata": {
        "id": "XpX1iNvAcsQ2"
      },
      "execution_count": null,
      "outputs": []
    },
    {
      "cell_type": "code",
      "source": [
        "#write a Python program to Sum of number digits in List\n",
        "def sum_of_digits(number):\n",
        "    return sum(int(digit) for digit in str(number))\n",
        "\n",
        "def sum_of_digits_in_list(my_list):\n",
        "    return [sum_of_digits(num) for num in my_list]\n",
        "\n",
        "# Example usage:\n",
        "original_list = [123, 45, 678, 9]\n",
        "sum_of_digits_list = sum_of_digits_in_list(original_list)\n",
        "\n",
        "print(\"Original List:\", original_list)\n",
        "print(\"Sum of digits in the list:\", sum_of_digits_list)\n"
      ],
      "metadata": {
        "id": "_Yt-7Dh6c-OD"
      },
      "execution_count": null,
      "outputs": []
    },
    {
      "cell_type": "code",
      "source": [
        "#write a Python program to Break a list into chunks of size N\n",
        "def chunk_list(input_list, chunk_size):\n",
        "    return [input_list[i:i + chunk_size] for i in range(0, len(input_list), chunk_size)]\n",
        "\n",
        "# Example usage:\n",
        "original_list = [1, 2, 3, 4, 5, 6, 7, 8, 9, 10]\n",
        "chunk_size = 3\n",
        "chunked_list = chunk_list(original_list, chunk_size)\n",
        "\n",
        "print(\"Original List:\", original_list)\n",
        "print(f\"List after breaking into chunks of size {chunk_size}:\", chunked_list)\n"
      ],
      "metadata": {
        "id": "eCRE7zPZdHwW"
      },
      "execution_count": null,
      "outputs": []
    },
    {
      "cell_type": "code",
      "source": [
        "#write a Python program to Sort the values of first list using second list\n",
        "def sort_list_by_other_list(list_to_sort, order_list):\n",
        "    sorted_list = [x for _, x in sorted(zip(order_list, list_to_sort))]\n",
        "    return sorted_list\n",
        "\n",
        "# Example usage:\n",
        "first_list = [4, 2, 8, 6, 1]\n",
        "second_list = [1, 2, 3, 4, 5]\n",
        "\n",
        "sorted_values = sort_list_by_other_list(first_list, second_list)\n",
        "\n",
        "print(\"First List:\", first_list)\n",
        "print(\"Second List:\", second_list)\n",
        "print(\"First List after sorting using Second List:\", sorted_values)\n"
      ],
      "metadata": {
        "id": "uD_TYiX1dN41"
      },
      "execution_count": null,
      "outputs": []
    }
  ]
}