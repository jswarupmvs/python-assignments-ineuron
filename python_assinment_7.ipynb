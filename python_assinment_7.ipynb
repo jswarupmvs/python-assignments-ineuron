{
  "nbformat": 4,
  "nbformat_minor": 0,
  "metadata": {
    "colab": {
      "provenance": []
    },
    "kernelspec": {
      "name": "python3",
      "display_name": "Python 3"
    },
    "language_info": {
      "name": "python"
    }
  },
  "cells": [
    {
      "cell_type": "code",
      "execution_count": null,
      "metadata": {
        "id": "JfhPscdygOiL"
      },
      "outputs": [],
      "source": [
        "#Reverse words in a given String in Python\n",
        "def reverse_words(input_string):\n",
        "    # Split the string into words\n",
        "    words = input_string.split()\n",
        "\n",
        "    # Reverse the order of words\n",
        "    reversed_words = words[::-1]\n",
        "\n",
        "    # Join the reversed words into a string\n",
        "    reversed_string = ' '.join(reversed_words)\n",
        "\n",
        "    return reversed_string\n",
        "\n",
        "# Example usage:\n",
        "input_string = \"Hello World, this is a sample string.\"\n",
        "result = reverse_words(input_string)\n",
        "\n",
        "print(\"Original String:\", input_string)\n",
        "print(\"Reversed Words:\", result)\n"
      ]
    },
    {
      "cell_type": "code",
      "source": [
        "#Ways to remove i’th character from string in Python\n",
        "def remove_ith_character(input_string, i):\n",
        "    if 0 <= i < len(input_string):\n",
        "        result_string = input_string[:i] + input_string[i+1:]\n",
        "        return result_string\n",
        "    else:\n",
        "        return \"Invalid index\"\n",
        "\n",
        "# Example usage:\n",
        "input_string = \"example\"\n",
        "i = 2\n",
        "result = remove_ith_character(input_string, i)\n",
        "\n",
        "print(\"Original String:\", input_string)\n",
        "print(f\"String after removing the {i}th character:\", result)\n"
      ],
      "metadata": {
        "id": "0XKdqAbZj5yq"
      },
      "execution_count": null,
      "outputs": []
    },
    {
      "cell_type": "code",
      "source": [
        "#Python | Check if a Substring is Present in a Given String\n",
        "def is_substring_present(input_string, substring):\n",
        "    return substring in input_string\n",
        "\n",
        "# Example usage:\n",
        "main_string = \"Hello, World!\"\n",
        "substring_to_check = \"World\"\n",
        "\n",
        "if is_substring_present(main_string, substring_to_check):\n",
        "    print(f\"'{substring_to_check}' is present in the string.\")\n",
        "else:\n",
        "    print(f\"'{substring_to_check}' is not present in the string.\")\n"
      ],
      "metadata": {
        "id": "fj0_khsnj9iG"
      },
      "execution_count": null,
      "outputs": []
    },
    {
      "cell_type": "code",
      "source": [
        "#Python – Words Frequency in String Shorthands\n",
        "def word_frequency_shorthands(input_string):\n",
        "    # Remove punctuation and convert to lowercase\n",
        "    clean_string = ''.join(char.lower() if char.isalnum() or char.isspace() else ' ' for char in input_string)\n",
        "\n",
        "    # Count word frequencies\n",
        "    word_counts = {}\n",
        "    for word in clean_string.split():\n",
        "        word_counts[word] = word_counts.get(word, 0) + 1\n",
        "\n",
        "    # Create shorthand representation\n",
        "    shorthands = {f\"{word[0]}{len(word) - 2}{word[-1]}\" if len(word) > 2 else word for word in word_counts.keys()}\n",
        "\n",
        "    return shorthands\n",
        "\n",
        "# Example usage:\n",
        "input_string = \"Python is a powerful programming language. Python is used for web development, data science, and more.\"\n",
        "result = word_frequency_shorthands(input_string)\n",
        "\n",
        "print(\"Original String:\", input_string)\n",
        "print(\"Word Frequencies Shorthands:\", result)\n"
      ],
      "metadata": {
        "id": "VfFn3RRMkNIo"
      },
      "execution_count": null,
      "outputs": []
    },
    {
      "cell_type": "code",
      "source": [
        "#Python – Convert Snake case to Pascal case\n",
        "def snake_to_pascal(snake_case_string):\n",
        "    words = snake_case_string.split('_')\n",
        "    pascal_case_string = ''.join(word.capitalize() for word in words)\n",
        "    return pascal_case_string\n",
        "\n",
        "# Example usage:\n",
        "snake_case_string = \"my_variable_name\"\n",
        "pascal_case_result = snake_to_pascal(snake_case_string)\n",
        "\n",
        "print(f\"Snake Case: {snake_case_string}\")\n",
        "print(f\"Pascal Case: {pascal_case_result}\")\n"
      ],
      "metadata": {
        "id": "TC-U9gHpkTH5"
      },
      "execution_count": null,
      "outputs": []
    },
    {
      "cell_type": "code",
      "source": [
        "#Find length of a string in python (4 ways)\n",
        "# Method 1: Using len() function\n",
        "string = \"Hello, World!\"\n",
        "length = len(string)\n",
        "print(\"Length of the string:\", length)\n"
      ],
      "metadata": {
        "id": "Ik3Q1PbVkg9C"
      },
      "execution_count": null,
      "outputs": []
    },
    {
      "cell_type": "code",
      "source": [
        "#Python program to print even length words in a string\n",
        "def print_even_length_words(input_string):\n",
        "    words = input_string.split()\n",
        "    even_length_words = [word for word in words if len(word) % 2 == 0]\n",
        "    return even_length_words\n",
        "\n",
        "# Example usage:\n",
        "input_string = \"This is a sample string with words of different lengths\"\n",
        "even_length_words = print_even_length_words(input_string)\n",
        "\n",
        "print(\"Original String:\", input_string)\n",
        "print(\"Even Length Words:\", even_length_words)\n"
      ],
      "metadata": {
        "id": "EjRCUxDYko9N"
      },
      "execution_count": null,
      "outputs": []
    },
    {
      "cell_type": "code",
      "source": [
        "#Python program to accept the strings which contains all vowels\n",
        "def contains_all_vowels(input_string):\n",
        "    vowels = set(\"aeiou\")\n",
        "    input_set = set(input_string.lower())\n",
        "\n",
        "    return vowels.issubset(input_set)\n",
        "\n",
        "# Example usage:\n",
        "input_string = \"This is a sample string with all vowels\"\n",
        "result = contains_all_vowels(input_string)\n",
        "\n",
        "if result:\n",
        "    print(f\"The string '{input_string}' contains all vowels.\")\n",
        "else:\n",
        "    print(f\"The string '{input_string}' does not contain all vowels.\")\n"
      ],
      "metadata": {
        "id": "d3OoM4Vuk0gV"
      },
      "execution_count": null,
      "outputs": []
    },
    {
      "cell_type": "code",
      "source": [
        "#Python | Count the Number of matching characters in a pair of string\n",
        "def count_matching_characters(str1, str2):\n",
        "    count = 0\n",
        "\n",
        "    # Convert strings to sets for easy comparison\n",
        "    set1 = set(str1)\n",
        "    set2 = set(str2)\n",
        "\n",
        "    # Count matching characters\n",
        "    for char in set1:\n",
        "        if char in set2:\n",
        "            count += 1\n",
        "\n",
        "    return count\n",
        "\n",
        "# Example usage:\n",
        "string1 = \"hello\"\n",
        "string2 = \"world\"\n",
        "matching_count = count_matching_characters(string1, string2)\n",
        "\n",
        "print(f\"String 1: {string1}\")\n",
        "print(f\"String 2: {string2}\")\n",
        "print(f\"Number of matching characters: {matching_count}\")\n"
      ],
      "metadata": {
        "id": "7ta5tGIkk6wu"
      },
      "execution_count": null,
      "outputs": []
    },
    {
      "cell_type": "code",
      "source": [
        "#Remove all duplicates from a given string in Python\n",
        "def remove_duplicates(input_string):\n",
        "    unique_characters = set()\n",
        "    result_string = \"\"\n",
        "\n",
        "    for char in input_string:\n",
        "        if char not in unique_characters:\n",
        "            unique_characters.add(char)\n",
        "            result_string += char\n",
        "\n",
        "    return result_string\n",
        "\n",
        "# Example usage:\n",
        "input_string = \"programming\"\n",
        "result = remove_duplicates(input_string)\n",
        "\n",
        "print(\"Original String:\", input_string)\n",
        "print(\"String after removing duplicates:\", result)\n"
      ],
      "metadata": {
        "id": "QynnqT4YlCtc"
      },
      "execution_count": null,
      "outputs": []
    }
  ]
}